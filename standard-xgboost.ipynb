{
 "cells": [
  {
   "cell_type": "code",
   "execution_count": 1,
   "id": "d94f4736",
   "metadata": {
    "_cell_guid": "b1076dfc-b9ad-4769-8c92-a6c4dae69d19",
    "_uuid": "8f2839f25d086af736a60e9eeb907d3b93b6e0e5",
    "execution": {
     "iopub.execute_input": "2023-03-26T04:05:35.014993Z",
     "iopub.status.busy": "2023-03-26T04:05:35.014429Z",
     "iopub.status.idle": "2023-03-26T04:05:35.033269Z",
     "shell.execute_reply": "2023-03-26T04:05:35.032170Z"
    },
    "papermill": {
     "duration": 0.029268,
     "end_time": "2023-03-26T04:05:35.036510",
     "exception": false,
     "start_time": "2023-03-26T04:05:35.007242",
     "status": "completed"
    },
    "tags": []
   },
   "outputs": [
    {
     "name": "stdout",
     "output_type": "stream",
     "text": [
      "/kaggle/input/ml-for-oceanography/sample2.csv\n",
      "/kaggle/input/ml-for-oceanography/test1.csv\n",
      "/kaggle/input/ml-for-oceanography/train.csv\n"
     ]
    }
   ],
   "source": [
    "# This Python 3 environment comes with many helpful analytics libraries installed\n",
    "# It is defined by the kaggle/python Docker image: https://github.com/kaggle/docker-python\n",
    "# For example, here's several helpful packages to load\n",
    "\n",
    "import numpy as np # linear algebra\n",
    "import pandas as pd # data processing, CSV file I/O (e.g. pd.read_csv)\n",
    "\n",
    "# Input data files are available in the read-only \"../input/\" directory\n",
    "# For example, running this (by clicking run or pressing Shift+Enter) will list all files under the input directory\n",
    "\n",
    "import os\n",
    "for dirname, _, filenames in os.walk('/kaggle/input'):\n",
    "    for filename in filenames:\n",
    "        print(os.path.join(dirname, filename))\n",
    "\n",
    "# You can write up to 20GB to the current directory (/kaggle/working/) that gets preserved as output when you create a version using \"Save & Run All\" \n",
    "# You can also write temporary files to /kaggle/temp/, but they won't be saved outside of the current session"
   ]
  },
  {
   "cell_type": "code",
   "execution_count": 2,
   "id": "2dce339d",
   "metadata": {
    "execution": {
     "iopub.execute_input": "2023-03-26T04:05:35.047528Z",
     "iopub.status.busy": "2023-03-26T04:05:35.047112Z",
     "iopub.status.idle": "2023-03-26T04:05:35.096309Z",
     "shell.execute_reply": "2023-03-26T04:05:35.094724Z"
    },
    "papermill": {
     "duration": 0.058768,
     "end_time": "2023-03-26T04:05:35.100065",
     "exception": false,
     "start_time": "2023-03-26T04:05:35.041297",
     "status": "completed"
    },
    "tags": []
   },
   "outputs": [],
   "source": [
    "train_data=pd.read_csv('/kaggle/input/ml-for-oceanography/train.csv')\n",
    "train_data.head()\n",
    "test_data=pd.read_csv('/kaggle/input/ml-for-oceanography/test1.csv')"
   ]
  },
  {
   "cell_type": "code",
   "execution_count": 3,
   "id": "0c5fa5f4",
   "metadata": {
    "execution": {
     "iopub.execute_input": "2023-03-26T04:05:35.111334Z",
     "iopub.status.busy": "2023-03-26T04:05:35.110919Z",
     "iopub.status.idle": "2023-03-26T04:05:35.148939Z",
     "shell.execute_reply": "2023-03-26T04:05:35.147910Z"
    },
    "papermill": {
     "duration": 0.046439,
     "end_time": "2023-03-26T04:05:35.151342",
     "exception": false,
     "start_time": "2023-03-26T04:05:35.104903",
     "status": "completed"
    },
    "tags": []
   },
   "outputs": [
    {
     "data": {
      "text/html": [
       "<div>\n",
       "<style scoped>\n",
       "    .dataframe tbody tr th:only-of-type {\n",
       "        vertical-align: middle;\n",
       "    }\n",
       "\n",
       "    .dataframe tbody tr th {\n",
       "        vertical-align: top;\n",
       "    }\n",
       "\n",
       "    .dataframe thead th {\n",
       "        text-align: right;\n",
       "    }\n",
       "</style>\n",
       "<table border=\"1\" class=\"dataframe\">\n",
       "  <thead>\n",
       "    <tr style=\"text-align: right;\">\n",
       "      <th></th>\n",
       "      <th>ID</th>\n",
       "      <th>#YY</th>\n",
       "      <th>MM</th>\n",
       "      <th>DD</th>\n",
       "      <th>hh</th>\n",
       "      <th>mm</th>\n",
       "      <th>WDIR(degT)</th>\n",
       "      <th>WSPD(m/s)</th>\n",
       "      <th>GST(m/s)</th>\n",
       "      <th>DPD(sec)</th>\n",
       "      <th>APD(sec)</th>\n",
       "      <th>MWD(degT)</th>\n",
       "      <th>PRES(hPa)</th>\n",
       "      <th>ATMP(degC)</th>\n",
       "      <th>WTMP(degC)</th>\n",
       "      <th>DEWP(degC)</th>\n",
       "      <th>WVHT(m)</th>\n",
       "    </tr>\n",
       "  </thead>\n",
       "  <tbody>\n",
       "    <tr>\n",
       "      <th>0</th>\n",
       "      <td>2017424150</td>\n",
       "      <td>2017</td>\n",
       "      <td>4</td>\n",
       "      <td>24</td>\n",
       "      <td>1</td>\n",
       "      <td>50</td>\n",
       "      <td>23</td>\n",
       "      <td>3.0</td>\n",
       "      <td>3.6</td>\n",
       "      <td>4.17</td>\n",
       "      <td>3.33</td>\n",
       "      <td>349</td>\n",
       "      <td>1019.1</td>\n",
       "      <td>4.7</td>\n",
       "      <td>5.1</td>\n",
       "      <td>4.2</td>\n",
       "      <td>0.39</td>\n",
       "    </tr>\n",
       "    <tr>\n",
       "      <th>1</th>\n",
       "      <td>2017424250</td>\n",
       "      <td>2017</td>\n",
       "      <td>4</td>\n",
       "      <td>24</td>\n",
       "      <td>2</td>\n",
       "      <td>50</td>\n",
       "      <td>30</td>\n",
       "      <td>2.9</td>\n",
       "      <td>3.3</td>\n",
       "      <td>5.26</td>\n",
       "      <td>4.21</td>\n",
       "      <td>358</td>\n",
       "      <td>1018.8</td>\n",
       "      <td>4.6</td>\n",
       "      <td>4.8</td>\n",
       "      <td>4.1</td>\n",
       "      <td>0.65</td>\n",
       "    </tr>\n",
       "    <tr>\n",
       "      <th>2</th>\n",
       "      <td>2017424350</td>\n",
       "      <td>2017</td>\n",
       "      <td>4</td>\n",
       "      <td>24</td>\n",
       "      <td>3</td>\n",
       "      <td>50</td>\n",
       "      <td>360</td>\n",
       "      <td>2.2</td>\n",
       "      <td>2.5</td>\n",
       "      <td>5.88</td>\n",
       "      <td>4.79</td>\n",
       "      <td>11</td>\n",
       "      <td>1018.3</td>\n",
       "      <td>4.6</td>\n",
       "      <td>4.7</td>\n",
       "      <td>4.2</td>\n",
       "      <td>0.90</td>\n",
       "    </tr>\n",
       "    <tr>\n",
       "      <th>3</th>\n",
       "      <td>2017424450</td>\n",
       "      <td>2017</td>\n",
       "      <td>4</td>\n",
       "      <td>24</td>\n",
       "      <td>4</td>\n",
       "      <td>50</td>\n",
       "      <td>355</td>\n",
       "      <td>2.5</td>\n",
       "      <td>3.1</td>\n",
       "      <td>5.88</td>\n",
       "      <td>4.95</td>\n",
       "      <td>23</td>\n",
       "      <td>1018.1</td>\n",
       "      <td>4.6</td>\n",
       "      <td>4.6</td>\n",
       "      <td>4.2</td>\n",
       "      <td>0.91</td>\n",
       "    </tr>\n",
       "    <tr>\n",
       "      <th>4</th>\n",
       "      <td>2017424550</td>\n",
       "      <td>2017</td>\n",
       "      <td>4</td>\n",
       "      <td>24</td>\n",
       "      <td>5</td>\n",
       "      <td>50</td>\n",
       "      <td>355</td>\n",
       "      <td>3.5</td>\n",
       "      <td>4.5</td>\n",
       "      <td>6.25</td>\n",
       "      <td>4.98</td>\n",
       "      <td>26</td>\n",
       "      <td>1018.3</td>\n",
       "      <td>4.5</td>\n",
       "      <td>4.6</td>\n",
       "      <td>4.0</td>\n",
       "      <td>0.88</td>\n",
       "    </tr>\n",
       "  </tbody>\n",
       "</table>\n",
       "</div>"
      ],
      "text/plain": [
       "           ID   #YY  MM  DD  hh  mm  WDIR(degT)  WSPD(m/s)  GST(m/s)  \\\n",
       "0  2017424150  2017   4  24   1  50          23        3.0       3.6   \n",
       "1  2017424250  2017   4  24   2  50          30        2.9       3.3   \n",
       "2  2017424350  2017   4  24   3  50         360        2.2       2.5   \n",
       "3  2017424450  2017   4  24   4  50         355        2.5       3.1   \n",
       "4  2017424550  2017   4  24   5  50         355        3.5       4.5   \n",
       "\n",
       "   DPD(sec)  APD(sec)  MWD(degT)  PRES(hPa)  ATMP(degC)  WTMP(degC)  \\\n",
       "0      4.17      3.33        349     1019.1         4.7         5.1   \n",
       "1      5.26      4.21        358     1018.8         4.6         4.8   \n",
       "2      5.88      4.79         11     1018.3         4.6         4.7   \n",
       "3      5.88      4.95         23     1018.1         4.6         4.6   \n",
       "4      6.25      4.98         26     1018.3         4.5         4.6   \n",
       "\n",
       "   DEWP(degC)  WVHT(m)  \n",
       "0         4.2     0.39  \n",
       "1         4.1     0.65  \n",
       "2         4.2     0.90  \n",
       "3         4.2     0.91  \n",
       "4         4.0     0.88  "
      ]
     },
     "execution_count": 3,
     "metadata": {},
     "output_type": "execute_result"
    }
   ],
   "source": [
    "train_data.head()"
   ]
  },
  {
   "cell_type": "code",
   "execution_count": 4,
   "id": "95e9555d",
   "metadata": {
    "execution": {
     "iopub.execute_input": "2023-03-26T04:05:35.162775Z",
     "iopub.status.busy": "2023-03-26T04:05:35.161668Z",
     "iopub.status.idle": "2023-03-26T04:05:35.170497Z",
     "shell.execute_reply": "2023-03-26T04:05:35.169327Z"
    },
    "papermill": {
     "duration": 0.017694,
     "end_time": "2023-03-26T04:05:35.173525",
     "exception": false,
     "start_time": "2023-03-26T04:05:35.155831",
     "status": "completed"
    },
    "tags": []
   },
   "outputs": [
    {
     "data": {
      "text/plain": [
       "(3886, 17)"
      ]
     },
     "execution_count": 4,
     "metadata": {},
     "output_type": "execute_result"
    }
   ],
   "source": [
    "train_data.shape"
   ]
  },
  {
   "cell_type": "code",
   "execution_count": 5,
   "id": "517df68f",
   "metadata": {
    "execution": {
     "iopub.execute_input": "2023-03-26T04:05:35.184983Z",
     "iopub.status.busy": "2023-03-26T04:05:35.184540Z",
     "iopub.status.idle": "2023-03-26T04:05:35.208863Z",
     "shell.execute_reply": "2023-03-26T04:05:35.207399Z"
    },
    "papermill": {
     "duration": 0.03317,
     "end_time": "2023-03-26T04:05:35.211510",
     "exception": false,
     "start_time": "2023-03-26T04:05:35.178340",
     "status": "completed"
    },
    "tags": []
   },
   "outputs": [
    {
     "data": {
      "text/html": [
       "<div>\n",
       "<style scoped>\n",
       "    .dataframe tbody tr th:only-of-type {\n",
       "        vertical-align: middle;\n",
       "    }\n",
       "\n",
       "    .dataframe tbody tr th {\n",
       "        vertical-align: top;\n",
       "    }\n",
       "\n",
       "    .dataframe thead th {\n",
       "        text-align: right;\n",
       "    }\n",
       "</style>\n",
       "<table border=\"1\" class=\"dataframe\">\n",
       "  <thead>\n",
       "    <tr style=\"text-align: right;\">\n",
       "      <th></th>\n",
       "      <th>WDIR(degT)</th>\n",
       "      <th>WSPD(m/s)</th>\n",
       "      <th>GST(m/s)</th>\n",
       "      <th>DPD(sec)</th>\n",
       "      <th>APD(sec)</th>\n",
       "      <th>MWD(degT)</th>\n",
       "      <th>PRES(hPa)</th>\n",
       "      <th>ATMP(degC)</th>\n",
       "      <th>WTMP(degC)</th>\n",
       "      <th>DEWP(degC)</th>\n",
       "    </tr>\n",
       "  </thead>\n",
       "  <tbody>\n",
       "    <tr>\n",
       "      <th>0</th>\n",
       "      <td>23</td>\n",
       "      <td>3.0</td>\n",
       "      <td>3.6</td>\n",
       "      <td>4.17</td>\n",
       "      <td>3.33</td>\n",
       "      <td>349</td>\n",
       "      <td>1019.1</td>\n",
       "      <td>4.7</td>\n",
       "      <td>5.1</td>\n",
       "      <td>4.2</td>\n",
       "    </tr>\n",
       "    <tr>\n",
       "      <th>1</th>\n",
       "      <td>30</td>\n",
       "      <td>2.9</td>\n",
       "      <td>3.3</td>\n",
       "      <td>5.26</td>\n",
       "      <td>4.21</td>\n",
       "      <td>358</td>\n",
       "      <td>1018.8</td>\n",
       "      <td>4.6</td>\n",
       "      <td>4.8</td>\n",
       "      <td>4.1</td>\n",
       "    </tr>\n",
       "    <tr>\n",
       "      <th>2</th>\n",
       "      <td>360</td>\n",
       "      <td>2.2</td>\n",
       "      <td>2.5</td>\n",
       "      <td>5.88</td>\n",
       "      <td>4.79</td>\n",
       "      <td>11</td>\n",
       "      <td>1018.3</td>\n",
       "      <td>4.6</td>\n",
       "      <td>4.7</td>\n",
       "      <td>4.2</td>\n",
       "    </tr>\n",
       "    <tr>\n",
       "      <th>3</th>\n",
       "      <td>355</td>\n",
       "      <td>2.5</td>\n",
       "      <td>3.1</td>\n",
       "      <td>5.88</td>\n",
       "      <td>4.95</td>\n",
       "      <td>23</td>\n",
       "      <td>1018.1</td>\n",
       "      <td>4.6</td>\n",
       "      <td>4.6</td>\n",
       "      <td>4.2</td>\n",
       "    </tr>\n",
       "    <tr>\n",
       "      <th>4</th>\n",
       "      <td>355</td>\n",
       "      <td>3.5</td>\n",
       "      <td>4.5</td>\n",
       "      <td>6.25</td>\n",
       "      <td>4.98</td>\n",
       "      <td>26</td>\n",
       "      <td>1018.3</td>\n",
       "      <td>4.5</td>\n",
       "      <td>4.6</td>\n",
       "      <td>4.0</td>\n",
       "    </tr>\n",
       "  </tbody>\n",
       "</table>\n",
       "</div>"
      ],
      "text/plain": [
       "   WDIR(degT)  WSPD(m/s)  GST(m/s)  DPD(sec)  APD(sec)  MWD(degT)  PRES(hPa)  \\\n",
       "0          23        3.0       3.6      4.17      3.33        349     1019.1   \n",
       "1          30        2.9       3.3      5.26      4.21        358     1018.8   \n",
       "2         360        2.2       2.5      5.88      4.79         11     1018.3   \n",
       "3         355        2.5       3.1      5.88      4.95         23     1018.1   \n",
       "4         355        3.5       4.5      6.25      4.98         26     1018.3   \n",
       "\n",
       "   ATMP(degC)  WTMP(degC)  DEWP(degC)  \n",
       "0         4.7         5.1         4.2  \n",
       "1         4.6         4.8         4.1  \n",
       "2         4.6         4.7         4.2  \n",
       "3         4.6         4.6         4.2  \n",
       "4         4.5         4.6         4.0  "
      ]
     },
     "execution_count": 5,
     "metadata": {},
     "output_type": "execute_result"
    }
   ],
   "source": [
    "X=train_data.iloc[:,6:16]\n",
    "X.head()"
   ]
  },
  {
   "cell_type": "code",
   "execution_count": 6,
   "id": "bcbe9829",
   "metadata": {
    "execution": {
     "iopub.execute_input": "2023-03-26T04:05:35.223428Z",
     "iopub.status.busy": "2023-03-26T04:05:35.222684Z",
     "iopub.status.idle": "2023-03-26T04:05:35.230615Z",
     "shell.execute_reply": "2023-03-26T04:05:35.229594Z"
    },
    "papermill": {
     "duration": 0.016762,
     "end_time": "2023-03-26T04:05:35.233121",
     "exception": false,
     "start_time": "2023-03-26T04:05:35.216359",
     "status": "completed"
    },
    "tags": []
   },
   "outputs": [
    {
     "data": {
      "text/plain": [
       "0    0.39\n",
       "1    0.65\n",
       "2    0.90\n",
       "3    0.91\n",
       "4    0.88\n",
       "Name: WVHT(m), dtype: float64"
      ]
     },
     "execution_count": 6,
     "metadata": {},
     "output_type": "execute_result"
    }
   ],
   "source": [
    "y=train_data.iloc[:,-1]\n",
    "y.head()"
   ]
  },
  {
   "cell_type": "code",
   "execution_count": 7,
   "id": "efb2b4bd",
   "metadata": {
    "execution": {
     "iopub.execute_input": "2023-03-26T04:05:35.245575Z",
     "iopub.status.busy": "2023-03-26T04:05:35.244859Z",
     "iopub.status.idle": "2023-03-26T04:05:37.320358Z",
     "shell.execute_reply": "2023-03-26T04:05:37.319352Z"
    },
    "papermill": {
     "duration": 2.084655,
     "end_time": "2023-03-26T04:05:37.323001",
     "exception": false,
     "start_time": "2023-03-26T04:05:35.238346",
     "status": "completed"
    },
    "tags": []
   },
   "outputs": [
    {
     "data": {
      "text/plain": [
       "XGBRegressor(base_score=0.5, booster='gbtree', callbacks=None,\n",
       "             colsample_bylevel=1, colsample_bynode=1, colsample_bytree=1,\n",
       "             early_stopping_rounds=None, enable_categorical=False,\n",
       "             eval_metric=None, gamma=0, gpu_id=-1, grow_policy='depthwise',\n",
       "             importance_type=None, interaction_constraints='',\n",
       "             learning_rate=0.300000012, max_bin=256, max_cat_to_onehot=4,\n",
       "             max_delta_step=0, max_depth=6, max_leaves=0, min_child_weight=1,\n",
       "             missing=nan, monotone_constraints='()', n_estimators=100, n_jobs=0,\n",
       "             num_parallel_tree=1, predictor='auto', random_state=0, reg_alpha=0,\n",
       "             reg_lambda=1, ...)"
      ]
     },
     "execution_count": 7,
     "metadata": {},
     "output_type": "execute_result"
    }
   ],
   "source": [
    "from xgboost import XGBRegressor\n",
    "model=XGBRegressor()\n",
    "model.fit(X,y)"
   ]
  },
  {
   "cell_type": "code",
   "execution_count": 8,
   "id": "478d22c2",
   "metadata": {
    "execution": {
     "iopub.execute_input": "2023-03-26T04:05:37.335862Z",
     "iopub.status.busy": "2023-03-26T04:05:37.335123Z",
     "iopub.status.idle": "2023-03-26T04:05:37.353334Z",
     "shell.execute_reply": "2023-03-26T04:05:37.352295Z"
    },
    "papermill": {
     "duration": 0.027772,
     "end_time": "2023-03-26T04:05:37.356042",
     "exception": false,
     "start_time": "2023-03-26T04:05:37.328270",
     "status": "completed"
    },
    "tags": []
   },
   "outputs": [
    {
     "data": {
      "text/html": [
       "<div>\n",
       "<style scoped>\n",
       "    .dataframe tbody tr th:only-of-type {\n",
       "        vertical-align: middle;\n",
       "    }\n",
       "\n",
       "    .dataframe tbody tr th {\n",
       "        vertical-align: top;\n",
       "    }\n",
       "\n",
       "    .dataframe thead th {\n",
       "        text-align: right;\n",
       "    }\n",
       "</style>\n",
       "<table border=\"1\" class=\"dataframe\">\n",
       "  <thead>\n",
       "    <tr style=\"text-align: right;\">\n",
       "      <th></th>\n",
       "      <th>WDIR(degT)</th>\n",
       "      <th>WSPD(m/s)</th>\n",
       "      <th>GST(m/s)</th>\n",
       "      <th>DPD(sec)</th>\n",
       "      <th>APD(sec)</th>\n",
       "      <th>MWD(degT)</th>\n",
       "      <th>PRES(hPa)</th>\n",
       "      <th>ATMP(degC)</th>\n",
       "      <th>WTMP(degC)</th>\n",
       "      <th>DEWP(degC)</th>\n",
       "    </tr>\n",
       "  </thead>\n",
       "  <tbody>\n",
       "    <tr>\n",
       "      <th>0</th>\n",
       "      <td>340</td>\n",
       "      <td>6.7</td>\n",
       "      <td>8.2</td>\n",
       "      <td>2.35</td>\n",
       "      <td>2.37</td>\n",
       "      <td>177</td>\n",
       "      <td>1011.5</td>\n",
       "      <td>18.6</td>\n",
       "      <td>16.8</td>\n",
       "      <td>17.8</td>\n",
       "    </tr>\n",
       "    <tr>\n",
       "      <th>1</th>\n",
       "      <td>15</td>\n",
       "      <td>2.3</td>\n",
       "      <td>5.5</td>\n",
       "      <td>2.60</td>\n",
       "      <td>2.44</td>\n",
       "      <td>336</td>\n",
       "      <td>1010.7</td>\n",
       "      <td>19.0</td>\n",
       "      <td>16.9</td>\n",
       "      <td>17.8</td>\n",
       "    </tr>\n",
       "    <tr>\n",
       "      <th>2</th>\n",
       "      <td>11</td>\n",
       "      <td>1.6</td>\n",
       "      <td>2.7</td>\n",
       "      <td>3.13</td>\n",
       "      <td>2.95</td>\n",
       "      <td>341</td>\n",
       "      <td>1010.6</td>\n",
       "      <td>17.9</td>\n",
       "      <td>16.7</td>\n",
       "      <td>17.3</td>\n",
       "    </tr>\n",
       "    <tr>\n",
       "      <th>3</th>\n",
       "      <td>21</td>\n",
       "      <td>4.1</td>\n",
       "      <td>4.9</td>\n",
       "      <td>2.86</td>\n",
       "      <td>2.59</td>\n",
       "      <td>8</td>\n",
       "      <td>1015.8</td>\n",
       "      <td>20.0</td>\n",
       "      <td>20.3</td>\n",
       "      <td>19.5</td>\n",
       "    </tr>\n",
       "    <tr>\n",
       "      <th>4</th>\n",
       "      <td>16</td>\n",
       "      <td>4.5</td>\n",
       "      <td>5.4</td>\n",
       "      <td>2.74</td>\n",
       "      <td>2.64</td>\n",
       "      <td>16</td>\n",
       "      <td>1016.5</td>\n",
       "      <td>20.1</td>\n",
       "      <td>20.3</td>\n",
       "      <td>19.6</td>\n",
       "    </tr>\n",
       "  </tbody>\n",
       "</table>\n",
       "</div>"
      ],
      "text/plain": [
       "   WDIR(degT)  WSPD(m/s)  GST(m/s)  DPD(sec)  APD(sec)  MWD(degT)  PRES(hPa)  \\\n",
       "0         340        6.7       8.2      2.35      2.37        177     1011.5   \n",
       "1          15        2.3       5.5      2.60      2.44        336     1010.7   \n",
       "2          11        1.6       2.7      3.13      2.95        341     1010.6   \n",
       "3          21        4.1       4.9      2.86      2.59          8     1015.8   \n",
       "4          16        4.5       5.4      2.74      2.64         16     1016.5   \n",
       "\n",
       "   ATMP(degC)  WTMP(degC)  DEWP(degC)  \n",
       "0        18.6        16.8        17.8  \n",
       "1        19.0        16.9        17.8  \n",
       "2        17.9        16.7        17.3  \n",
       "3        20.0        20.3        19.5  \n",
       "4        20.1        20.3        19.6  "
      ]
     },
     "execution_count": 8,
     "metadata": {},
     "output_type": "execute_result"
    }
   ],
   "source": [
    "X_test=test_data.iloc[:,6:16]\n",
    "X_test.head()"
   ]
  },
  {
   "cell_type": "markdown",
   "id": "872413b2",
   "metadata": {
    "papermill": {
     "duration": 0.004829,
     "end_time": "2023-03-26T04:05:37.366209",
     "exception": false,
     "start_time": "2023-03-26T04:05:37.361380",
     "status": "completed"
    },
    "tags": []
   },
   "source": [
    "predictions"
   ]
  },
  {
   "cell_type": "code",
   "execution_count": 9,
   "id": "87da70e9",
   "metadata": {
    "execution": {
     "iopub.execute_input": "2023-03-26T04:05:37.380313Z",
     "iopub.status.busy": "2023-03-26T04:05:37.379481Z",
     "iopub.status.idle": "2023-03-26T04:05:37.392821Z",
     "shell.execute_reply": "2023-03-26T04:05:37.391777Z"
    },
    "papermill": {
     "duration": 0.024001,
     "end_time": "2023-03-26T04:05:37.395825",
     "exception": false,
     "start_time": "2023-03-26T04:05:37.371824",
     "status": "completed"
    },
    "tags": []
   },
   "outputs": [],
   "source": [
    "pred=model.predict(X_test)"
   ]
  },
  {
   "cell_type": "code",
   "execution_count": 10,
   "id": "47f22b8b",
   "metadata": {
    "execution": {
     "iopub.execute_input": "2023-03-26T04:05:37.410601Z",
     "iopub.status.busy": "2023-03-26T04:05:37.410133Z",
     "iopub.status.idle": "2023-03-26T04:05:37.420880Z",
     "shell.execute_reply": "2023-03-26T04:05:37.418707Z"
    },
    "papermill": {
     "duration": 0.023076,
     "end_time": "2023-03-26T04:05:37.425103",
     "exception": false,
     "start_time": "2023-03-26T04:05:37.402027",
     "status": "completed"
    },
    "tags": []
   },
   "outputs": [
    {
     "data": {
      "text/plain": [
       "array([0.30637404, 0.30327022, 0.3499312 , ..., 0.6349738 , 1.3034847 ,\n",
       "       0.99981344], dtype=float32)"
      ]
     },
     "execution_count": 10,
     "metadata": {},
     "output_type": "execute_result"
    }
   ],
   "source": [
    "pred"
   ]
  },
  {
   "cell_type": "code",
   "execution_count": 11,
   "id": "ba71ac6f",
   "metadata": {
    "execution": {
     "iopub.execute_input": "2023-03-26T04:05:37.440105Z",
     "iopub.status.busy": "2023-03-26T04:05:37.439269Z",
     "iopub.status.idle": "2023-03-26T04:05:37.462556Z",
     "shell.execute_reply": "2023-03-26T04:05:37.460979Z"
    },
    "papermill": {
     "duration": 0.035714,
     "end_time": "2023-03-26T04:05:37.466391",
     "exception": false,
     "start_time": "2023-03-26T04:05:37.430677",
     "status": "completed"
    },
    "tags": []
   },
   "outputs": [
    {
     "name": "stdout",
     "output_type": "stream",
     "text": [
      "Your submission was successful\n"
     ]
    }
   ],
   "source": [
    "output=pd.DataFrame({'Id':test_data.ID,'WVHT(m)':pred})\n",
    "output.to_csv('submission.csv',index=False)\n",
    "print(\"Your submission was successful\")"
   ]
  },
  {
   "cell_type": "code",
   "execution_count": null,
   "id": "e39972e2",
   "metadata": {
    "papermill": {
     "duration": 0.005109,
     "end_time": "2023-03-26T04:05:37.477259",
     "exception": false,
     "start_time": "2023-03-26T04:05:37.472150",
     "status": "completed"
    },
    "tags": []
   },
   "outputs": [],
   "source": []
  }
 ],
 "metadata": {
  "kernelspec": {
   "display_name": "Python 3",
   "language": "python",
   "name": "python3"
  },
  "language_info": {
   "codemirror_mode": {
    "name": "ipython",
    "version": 3
   },
   "file_extension": ".py",
   "mimetype": "text/x-python",
   "name": "python",
   "nbconvert_exporter": "python",
   "pygments_lexer": "ipython3",
   "version": "3.7.12"
  },
  "papermill": {
   "default_parameters": {},
   "duration": 16.357414,
   "end_time": "2023-03-26T04:05:38.408330",
   "environment_variables": {},
   "exception": null,
   "input_path": "__notebook__.ipynb",
   "output_path": "__notebook__.ipynb",
   "parameters": {},
   "start_time": "2023-03-26T04:05:22.050916",
   "version": "2.4.0"
  }
 },
 "nbformat": 4,
 "nbformat_minor": 5
}
