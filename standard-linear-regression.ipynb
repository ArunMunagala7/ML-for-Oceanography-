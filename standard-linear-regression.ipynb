{
 "cells": [
  {
   "cell_type": "code",
   "execution_count": 1,
   "id": "619fc8ea",
   "metadata": {
    "_cell_guid": "b1076dfc-b9ad-4769-8c92-a6c4dae69d19",
    "_uuid": "8f2839f25d086af736a60e9eeb907d3b93b6e0e5",
    "execution": {
     "iopub.execute_input": "2023-03-27T19:45:40.759816Z",
     "iopub.status.busy": "2023-03-27T19:45:40.759333Z",
     "iopub.status.idle": "2023-03-27T19:45:40.774223Z",
     "shell.execute_reply": "2023-03-27T19:45:40.772937Z"
    },
    "papermill": {
     "duration": 0.02514,
     "end_time": "2023-03-27T19:45:40.777457",
     "exception": false,
     "start_time": "2023-03-27T19:45:40.752317",
     "status": "completed"
    },
    "tags": []
   },
   "outputs": [
    {
     "name": "stdout",
     "output_type": "stream",
     "text": [
      "/kaggle/input/ml-for-oceanography/sample2.csv\n",
      "/kaggle/input/ml-for-oceanography/test1.csv\n",
      "/kaggle/input/ml-for-oceanography/train.csv\n"
     ]
    }
   ],
   "source": [
    "# This Python 3 environment comes with many helpful analytics libraries installed\n",
    "# It is defined by the kaggle/python Docker image: https://github.com/kaggle/docker-python\n",
    "# For example, here's several helpful packages to load\n",
    "\n",
    "import numpy as np # linear algebra\n",
    "import pandas as pd # data processing, CSV file I/O (e.g. pd.read_csv)\n",
    "\n",
    "# Input data files are available in the read-only \"../input/\" directory\n",
    "# For example, running this (by clicking run or pressing Shift+Enter) will list all files under the input directory\n",
    "\n",
    "import os\n",
    "for dirname, _, filenames in os.walk('/kaggle/input'):\n",
    "    for filename in filenames:\n",
    "        print(os.path.join(dirname, filename))\n",
    "\n",
    "# You can write up to 20GB to the current directory (/kaggle/working/) that gets preserved as output when you create a version using \"Save & Run All\" \n",
    "# You can also write temporary files to /kaggle/temp/, but they won't be saved outside of the current session"
   ]
  },
  {
   "cell_type": "code",
   "execution_count": 2,
   "id": "0a5ef389",
   "metadata": {
    "execution": {
     "iopub.execute_input": "2023-03-27T19:45:40.788493Z",
     "iopub.status.busy": "2023-03-27T19:45:40.788089Z",
     "iopub.status.idle": "2023-03-27T19:45:40.828370Z",
     "shell.execute_reply": "2023-03-27T19:45:40.827100Z"
    },
    "papermill": {
     "duration": 0.048685,
     "end_time": "2023-03-27T19:45:40.831065",
     "exception": false,
     "start_time": "2023-03-27T19:45:40.782380",
     "status": "completed"
    },
    "tags": []
   },
   "outputs": [],
   "source": [
    "train_data=pd.read_csv('/kaggle/input/ml-for-oceanography/train.csv')\n",
    "train_data.head()\n",
    "test_data=pd.read_csv('/kaggle/input/ml-for-oceanography/test1.csv')"
   ]
  },
  {
   "cell_type": "code",
   "execution_count": 3,
   "id": "abc7202a",
   "metadata": {
    "execution": {
     "iopub.execute_input": "2023-03-27T19:45:40.841072Z",
     "iopub.status.busy": "2023-03-27T19:45:40.840635Z",
     "iopub.status.idle": "2023-03-27T19:45:40.874027Z",
     "shell.execute_reply": "2023-03-27T19:45:40.873084Z"
    },
    "papermill": {
     "duration": 0.041242,
     "end_time": "2023-03-27T19:45:40.876356",
     "exception": false,
     "start_time": "2023-03-27T19:45:40.835114",
     "status": "completed"
    },
    "tags": []
   },
   "outputs": [
    {
     "data": {
      "text/html": [
       "<div>\n",
       "<style scoped>\n",
       "    .dataframe tbody tr th:only-of-type {\n",
       "        vertical-align: middle;\n",
       "    }\n",
       "\n",
       "    .dataframe tbody tr th {\n",
       "        vertical-align: top;\n",
       "    }\n",
       "\n",
       "    .dataframe thead th {\n",
       "        text-align: right;\n",
       "    }\n",
       "</style>\n",
       "<table border=\"1\" class=\"dataframe\">\n",
       "  <thead>\n",
       "    <tr style=\"text-align: right;\">\n",
       "      <th></th>\n",
       "      <th>ID</th>\n",
       "      <th>#YY</th>\n",
       "      <th>MM</th>\n",
       "      <th>DD</th>\n",
       "      <th>hh</th>\n",
       "      <th>mm</th>\n",
       "      <th>WDIR(degT)</th>\n",
       "      <th>WSPD(m/s)</th>\n",
       "      <th>GST(m/s)</th>\n",
       "      <th>DPD(sec)</th>\n",
       "      <th>APD(sec)</th>\n",
       "      <th>MWD(degT)</th>\n",
       "      <th>PRES(hPa)</th>\n",
       "      <th>ATMP(degC)</th>\n",
       "      <th>WTMP(degC)</th>\n",
       "      <th>DEWP(degC)</th>\n",
       "      <th>WVHT(m)</th>\n",
       "    </tr>\n",
       "  </thead>\n",
       "  <tbody>\n",
       "    <tr>\n",
       "      <th>0</th>\n",
       "      <td>2017424150</td>\n",
       "      <td>2017</td>\n",
       "      <td>4</td>\n",
       "      <td>24</td>\n",
       "      <td>1</td>\n",
       "      <td>50</td>\n",
       "      <td>23</td>\n",
       "      <td>3.0</td>\n",
       "      <td>3.6</td>\n",
       "      <td>4.17</td>\n",
       "      <td>3.33</td>\n",
       "      <td>349</td>\n",
       "      <td>1019.1</td>\n",
       "      <td>4.7</td>\n",
       "      <td>5.1</td>\n",
       "      <td>4.2</td>\n",
       "      <td>0.39</td>\n",
       "    </tr>\n",
       "    <tr>\n",
       "      <th>1</th>\n",
       "      <td>2017424250</td>\n",
       "      <td>2017</td>\n",
       "      <td>4</td>\n",
       "      <td>24</td>\n",
       "      <td>2</td>\n",
       "      <td>50</td>\n",
       "      <td>30</td>\n",
       "      <td>2.9</td>\n",
       "      <td>3.3</td>\n",
       "      <td>5.26</td>\n",
       "      <td>4.21</td>\n",
       "      <td>358</td>\n",
       "      <td>1018.8</td>\n",
       "      <td>4.6</td>\n",
       "      <td>4.8</td>\n",
       "      <td>4.1</td>\n",
       "      <td>0.65</td>\n",
       "    </tr>\n",
       "    <tr>\n",
       "      <th>2</th>\n",
       "      <td>2017424350</td>\n",
       "      <td>2017</td>\n",
       "      <td>4</td>\n",
       "      <td>24</td>\n",
       "      <td>3</td>\n",
       "      <td>50</td>\n",
       "      <td>360</td>\n",
       "      <td>2.2</td>\n",
       "      <td>2.5</td>\n",
       "      <td>5.88</td>\n",
       "      <td>4.79</td>\n",
       "      <td>11</td>\n",
       "      <td>1018.3</td>\n",
       "      <td>4.6</td>\n",
       "      <td>4.7</td>\n",
       "      <td>4.2</td>\n",
       "      <td>0.90</td>\n",
       "    </tr>\n",
       "    <tr>\n",
       "      <th>3</th>\n",
       "      <td>2017424450</td>\n",
       "      <td>2017</td>\n",
       "      <td>4</td>\n",
       "      <td>24</td>\n",
       "      <td>4</td>\n",
       "      <td>50</td>\n",
       "      <td>355</td>\n",
       "      <td>2.5</td>\n",
       "      <td>3.1</td>\n",
       "      <td>5.88</td>\n",
       "      <td>4.95</td>\n",
       "      <td>23</td>\n",
       "      <td>1018.1</td>\n",
       "      <td>4.6</td>\n",
       "      <td>4.6</td>\n",
       "      <td>4.2</td>\n",
       "      <td>0.91</td>\n",
       "    </tr>\n",
       "    <tr>\n",
       "      <th>4</th>\n",
       "      <td>2017424550</td>\n",
       "      <td>2017</td>\n",
       "      <td>4</td>\n",
       "      <td>24</td>\n",
       "      <td>5</td>\n",
       "      <td>50</td>\n",
       "      <td>355</td>\n",
       "      <td>3.5</td>\n",
       "      <td>4.5</td>\n",
       "      <td>6.25</td>\n",
       "      <td>4.98</td>\n",
       "      <td>26</td>\n",
       "      <td>1018.3</td>\n",
       "      <td>4.5</td>\n",
       "      <td>4.6</td>\n",
       "      <td>4.0</td>\n",
       "      <td>0.88</td>\n",
       "    </tr>\n",
       "  </tbody>\n",
       "</table>\n",
       "</div>"
      ],
      "text/plain": [
       "           ID   #YY  MM  DD  hh  mm  WDIR(degT)  WSPD(m/s)  GST(m/s)  \\\n",
       "0  2017424150  2017   4  24   1  50          23        3.0       3.6   \n",
       "1  2017424250  2017   4  24   2  50          30        2.9       3.3   \n",
       "2  2017424350  2017   4  24   3  50         360        2.2       2.5   \n",
       "3  2017424450  2017   4  24   4  50         355        2.5       3.1   \n",
       "4  2017424550  2017   4  24   5  50         355        3.5       4.5   \n",
       "\n",
       "   DPD(sec)  APD(sec)  MWD(degT)  PRES(hPa)  ATMP(degC)  WTMP(degC)  \\\n",
       "0      4.17      3.33        349     1019.1         4.7         5.1   \n",
       "1      5.26      4.21        358     1018.8         4.6         4.8   \n",
       "2      5.88      4.79         11     1018.3         4.6         4.7   \n",
       "3      5.88      4.95         23     1018.1         4.6         4.6   \n",
       "4      6.25      4.98         26     1018.3         4.5         4.6   \n",
       "\n",
       "   DEWP(degC)  WVHT(m)  \n",
       "0         4.2     0.39  \n",
       "1         4.1     0.65  \n",
       "2         4.2     0.90  \n",
       "3         4.2     0.91  \n",
       "4         4.0     0.88  "
      ]
     },
     "execution_count": 3,
     "metadata": {},
     "output_type": "execute_result"
    }
   ],
   "source": [
    "train_data.head()"
   ]
  },
  {
   "cell_type": "code",
   "execution_count": 4,
   "id": "6b5e1dde",
   "metadata": {
    "execution": {
     "iopub.execute_input": "2023-03-27T19:45:40.887397Z",
     "iopub.status.busy": "2023-03-27T19:45:40.886348Z",
     "iopub.status.idle": "2023-03-27T19:45:40.894388Z",
     "shell.execute_reply": "2023-03-27T19:45:40.893176Z"
    },
    "papermill": {
     "duration": 0.016084,
     "end_time": "2023-03-27T19:45:40.896842",
     "exception": false,
     "start_time": "2023-03-27T19:45:40.880758",
     "status": "completed"
    },
    "tags": []
   },
   "outputs": [
    {
     "data": {
      "text/plain": [
       "(3886, 17)"
      ]
     },
     "execution_count": 4,
     "metadata": {},
     "output_type": "execute_result"
    }
   ],
   "source": [
    "train_data.shape"
   ]
  },
  {
   "cell_type": "code",
   "execution_count": 5,
   "id": "e64fbccc",
   "metadata": {
    "execution": {
     "iopub.execute_input": "2023-03-27T19:45:40.908037Z",
     "iopub.status.busy": "2023-03-27T19:45:40.907344Z",
     "iopub.status.idle": "2023-03-27T19:45:40.930148Z",
     "shell.execute_reply": "2023-03-27T19:45:40.928702Z"
    },
    "papermill": {
     "duration": 0.031889,
     "end_time": "2023-03-27T19:45:40.933292",
     "exception": false,
     "start_time": "2023-03-27T19:45:40.901403",
     "status": "completed"
    },
    "tags": []
   },
   "outputs": [
    {
     "data": {
      "text/html": [
       "<div>\n",
       "<style scoped>\n",
       "    .dataframe tbody tr th:only-of-type {\n",
       "        vertical-align: middle;\n",
       "    }\n",
       "\n",
       "    .dataframe tbody tr th {\n",
       "        vertical-align: top;\n",
       "    }\n",
       "\n",
       "    .dataframe thead th {\n",
       "        text-align: right;\n",
       "    }\n",
       "</style>\n",
       "<table border=\"1\" class=\"dataframe\">\n",
       "  <thead>\n",
       "    <tr style=\"text-align: right;\">\n",
       "      <th></th>\n",
       "      <th>WDIR(degT)</th>\n",
       "      <th>WSPD(m/s)</th>\n",
       "      <th>GST(m/s)</th>\n",
       "      <th>DPD(sec)</th>\n",
       "      <th>APD(sec)</th>\n",
       "      <th>MWD(degT)</th>\n",
       "      <th>PRES(hPa)</th>\n",
       "      <th>ATMP(degC)</th>\n",
       "      <th>WTMP(degC)</th>\n",
       "      <th>DEWP(degC)</th>\n",
       "    </tr>\n",
       "  </thead>\n",
       "  <tbody>\n",
       "    <tr>\n",
       "      <th>0</th>\n",
       "      <td>23</td>\n",
       "      <td>3.0</td>\n",
       "      <td>3.6</td>\n",
       "      <td>4.17</td>\n",
       "      <td>3.33</td>\n",
       "      <td>349</td>\n",
       "      <td>1019.1</td>\n",
       "      <td>4.7</td>\n",
       "      <td>5.1</td>\n",
       "      <td>4.2</td>\n",
       "    </tr>\n",
       "    <tr>\n",
       "      <th>1</th>\n",
       "      <td>30</td>\n",
       "      <td>2.9</td>\n",
       "      <td>3.3</td>\n",
       "      <td>5.26</td>\n",
       "      <td>4.21</td>\n",
       "      <td>358</td>\n",
       "      <td>1018.8</td>\n",
       "      <td>4.6</td>\n",
       "      <td>4.8</td>\n",
       "      <td>4.1</td>\n",
       "    </tr>\n",
       "    <tr>\n",
       "      <th>2</th>\n",
       "      <td>360</td>\n",
       "      <td>2.2</td>\n",
       "      <td>2.5</td>\n",
       "      <td>5.88</td>\n",
       "      <td>4.79</td>\n",
       "      <td>11</td>\n",
       "      <td>1018.3</td>\n",
       "      <td>4.6</td>\n",
       "      <td>4.7</td>\n",
       "      <td>4.2</td>\n",
       "    </tr>\n",
       "    <tr>\n",
       "      <th>3</th>\n",
       "      <td>355</td>\n",
       "      <td>2.5</td>\n",
       "      <td>3.1</td>\n",
       "      <td>5.88</td>\n",
       "      <td>4.95</td>\n",
       "      <td>23</td>\n",
       "      <td>1018.1</td>\n",
       "      <td>4.6</td>\n",
       "      <td>4.6</td>\n",
       "      <td>4.2</td>\n",
       "    </tr>\n",
       "    <tr>\n",
       "      <th>4</th>\n",
       "      <td>355</td>\n",
       "      <td>3.5</td>\n",
       "      <td>4.5</td>\n",
       "      <td>6.25</td>\n",
       "      <td>4.98</td>\n",
       "      <td>26</td>\n",
       "      <td>1018.3</td>\n",
       "      <td>4.5</td>\n",
       "      <td>4.6</td>\n",
       "      <td>4.0</td>\n",
       "    </tr>\n",
       "  </tbody>\n",
       "</table>\n",
       "</div>"
      ],
      "text/plain": [
       "   WDIR(degT)  WSPD(m/s)  GST(m/s)  DPD(sec)  APD(sec)  MWD(degT)  PRES(hPa)  \\\n",
       "0          23        3.0       3.6      4.17      3.33        349     1019.1   \n",
       "1          30        2.9       3.3      5.26      4.21        358     1018.8   \n",
       "2         360        2.2       2.5      5.88      4.79         11     1018.3   \n",
       "3         355        2.5       3.1      5.88      4.95         23     1018.1   \n",
       "4         355        3.5       4.5      6.25      4.98         26     1018.3   \n",
       "\n",
       "   ATMP(degC)  WTMP(degC)  DEWP(degC)  \n",
       "0         4.7         5.1         4.2  \n",
       "1         4.6         4.8         4.1  \n",
       "2         4.6         4.7         4.2  \n",
       "3         4.6         4.6         4.2  \n",
       "4         4.5         4.6         4.0  "
      ]
     },
     "execution_count": 5,
     "metadata": {},
     "output_type": "execute_result"
    }
   ],
   "source": [
    "X=train_data.iloc[:,6:16]\n",
    "X.head()"
   ]
  },
  {
   "cell_type": "code",
   "execution_count": 6,
   "id": "6b1cc9c4",
   "metadata": {
    "execution": {
     "iopub.execute_input": "2023-03-27T19:45:40.944849Z",
     "iopub.status.busy": "2023-03-27T19:45:40.944389Z",
     "iopub.status.idle": "2023-03-27T19:45:40.954742Z",
     "shell.execute_reply": "2023-03-27T19:45:40.953005Z"
    },
    "papermill": {
     "duration": 0.020273,
     "end_time": "2023-03-27T19:45:40.958465",
     "exception": false,
     "start_time": "2023-03-27T19:45:40.938192",
     "status": "completed"
    },
    "tags": []
   },
   "outputs": [
    {
     "data": {
      "text/plain": [
       "0    0.39\n",
       "1    0.65\n",
       "2    0.90\n",
       "3    0.91\n",
       "4    0.88\n",
       "Name: WVHT(m), dtype: float64"
      ]
     },
     "execution_count": 6,
     "metadata": {},
     "output_type": "execute_result"
    }
   ],
   "source": [
    "y=train_data.iloc[:,-1]\n",
    "y.head()"
   ]
  },
  {
   "cell_type": "code",
   "execution_count": 7,
   "id": "97106a27",
   "metadata": {
    "execution": {
     "iopub.execute_input": "2023-03-27T19:45:40.971034Z",
     "iopub.status.busy": "2023-03-27T19:45:40.969921Z",
     "iopub.status.idle": "2023-03-27T19:45:42.199898Z",
     "shell.execute_reply": "2023-03-27T19:45:42.198491Z"
    },
    "papermill": {
     "duration": 1.240609,
     "end_time": "2023-03-27T19:45:42.203987",
     "exception": false,
     "start_time": "2023-03-27T19:45:40.963378",
     "status": "completed"
    },
    "tags": []
   },
   "outputs": [
    {
     "data": {
      "text/plain": [
       "LinearRegression()"
      ]
     },
     "execution_count": 7,
     "metadata": {},
     "output_type": "execute_result"
    }
   ],
   "source": [
    "from sklearn.linear_model import LinearRegression\n",
    "model = LinearRegression()\n",
    "model.fit(X,y)"
   ]
  },
  {
   "cell_type": "code",
   "execution_count": 8,
   "id": "03f250b3",
   "metadata": {
    "execution": {
     "iopub.execute_input": "2023-03-27T19:45:42.222780Z",
     "iopub.status.busy": "2023-03-27T19:45:42.222197Z",
     "iopub.status.idle": "2023-03-27T19:45:42.256924Z",
     "shell.execute_reply": "2023-03-27T19:45:42.255490Z"
    },
    "papermill": {
     "duration": 0.048463,
     "end_time": "2023-03-27T19:45:42.261066",
     "exception": false,
     "start_time": "2023-03-27T19:45:42.212603",
     "status": "completed"
    },
    "tags": []
   },
   "outputs": [
    {
     "data": {
      "text/html": [
       "<div>\n",
       "<style scoped>\n",
       "    .dataframe tbody tr th:only-of-type {\n",
       "        vertical-align: middle;\n",
       "    }\n",
       "\n",
       "    .dataframe tbody tr th {\n",
       "        vertical-align: top;\n",
       "    }\n",
       "\n",
       "    .dataframe thead th {\n",
       "        text-align: right;\n",
       "    }\n",
       "</style>\n",
       "<table border=\"1\" class=\"dataframe\">\n",
       "  <thead>\n",
       "    <tr style=\"text-align: right;\">\n",
       "      <th></th>\n",
       "      <th>WDIR(degT)</th>\n",
       "      <th>WSPD(m/s)</th>\n",
       "      <th>GST(m/s)</th>\n",
       "      <th>DPD(sec)</th>\n",
       "      <th>APD(sec)</th>\n",
       "      <th>MWD(degT)</th>\n",
       "      <th>PRES(hPa)</th>\n",
       "      <th>ATMP(degC)</th>\n",
       "      <th>WTMP(degC)</th>\n",
       "      <th>DEWP(degC)</th>\n",
       "    </tr>\n",
       "  </thead>\n",
       "  <tbody>\n",
       "    <tr>\n",
       "      <th>0</th>\n",
       "      <td>340</td>\n",
       "      <td>6.7</td>\n",
       "      <td>8.2</td>\n",
       "      <td>2.35</td>\n",
       "      <td>2.37</td>\n",
       "      <td>177</td>\n",
       "      <td>1011.5</td>\n",
       "      <td>18.6</td>\n",
       "      <td>16.8</td>\n",
       "      <td>17.8</td>\n",
       "    </tr>\n",
       "    <tr>\n",
       "      <th>1</th>\n",
       "      <td>15</td>\n",
       "      <td>2.3</td>\n",
       "      <td>5.5</td>\n",
       "      <td>2.60</td>\n",
       "      <td>2.44</td>\n",
       "      <td>336</td>\n",
       "      <td>1010.7</td>\n",
       "      <td>19.0</td>\n",
       "      <td>16.9</td>\n",
       "      <td>17.8</td>\n",
       "    </tr>\n",
       "    <tr>\n",
       "      <th>2</th>\n",
       "      <td>11</td>\n",
       "      <td>1.6</td>\n",
       "      <td>2.7</td>\n",
       "      <td>3.13</td>\n",
       "      <td>2.95</td>\n",
       "      <td>341</td>\n",
       "      <td>1010.6</td>\n",
       "      <td>17.9</td>\n",
       "      <td>16.7</td>\n",
       "      <td>17.3</td>\n",
       "    </tr>\n",
       "    <tr>\n",
       "      <th>3</th>\n",
       "      <td>21</td>\n",
       "      <td>4.1</td>\n",
       "      <td>4.9</td>\n",
       "      <td>2.86</td>\n",
       "      <td>2.59</td>\n",
       "      <td>8</td>\n",
       "      <td>1015.8</td>\n",
       "      <td>20.0</td>\n",
       "      <td>20.3</td>\n",
       "      <td>19.5</td>\n",
       "    </tr>\n",
       "    <tr>\n",
       "      <th>4</th>\n",
       "      <td>16</td>\n",
       "      <td>4.5</td>\n",
       "      <td>5.4</td>\n",
       "      <td>2.74</td>\n",
       "      <td>2.64</td>\n",
       "      <td>16</td>\n",
       "      <td>1016.5</td>\n",
       "      <td>20.1</td>\n",
       "      <td>20.3</td>\n",
       "      <td>19.6</td>\n",
       "    </tr>\n",
       "  </tbody>\n",
       "</table>\n",
       "</div>"
      ],
      "text/plain": [
       "   WDIR(degT)  WSPD(m/s)  GST(m/s)  DPD(sec)  APD(sec)  MWD(degT)  PRES(hPa)  \\\n",
       "0         340        6.7       8.2      2.35      2.37        177     1011.5   \n",
       "1          15        2.3       5.5      2.60      2.44        336     1010.7   \n",
       "2          11        1.6       2.7      3.13      2.95        341     1010.6   \n",
       "3          21        4.1       4.9      2.86      2.59          8     1015.8   \n",
       "4          16        4.5       5.4      2.74      2.64         16     1016.5   \n",
       "\n",
       "   ATMP(degC)  WTMP(degC)  DEWP(degC)  \n",
       "0        18.6        16.8        17.8  \n",
       "1        19.0        16.9        17.8  \n",
       "2        17.9        16.7        17.3  \n",
       "3        20.0        20.3        19.5  \n",
       "4        20.1        20.3        19.6  "
      ]
     },
     "execution_count": 8,
     "metadata": {},
     "output_type": "execute_result"
    }
   ],
   "source": [
    "X_test=test_data.iloc[:,6:16]\n",
    "X_test.head()"
   ]
  },
  {
   "cell_type": "markdown",
   "id": "73cd375f",
   "metadata": {
    "papermill": {
     "duration": 0.00775,
     "end_time": "2023-03-27T19:45:42.278040",
     "exception": false,
     "start_time": "2023-03-27T19:45:42.270290",
     "status": "completed"
    },
    "tags": []
   },
   "source": [
    "predictions"
   ]
  },
  {
   "cell_type": "code",
   "execution_count": 9,
   "id": "4e6076e2",
   "metadata": {
    "execution": {
     "iopub.execute_input": "2023-03-27T19:45:42.296702Z",
     "iopub.status.busy": "2023-03-27T19:45:42.296015Z",
     "iopub.status.idle": "2023-03-27T19:45:42.306627Z",
     "shell.execute_reply": "2023-03-27T19:45:42.305201Z"
    },
    "papermill": {
     "duration": 0.023883,
     "end_time": "2023-03-27T19:45:42.310102",
     "exception": false,
     "start_time": "2023-03-27T19:45:42.286219",
     "status": "completed"
    },
    "tags": []
   },
   "outputs": [],
   "source": [
    "pred=model.predict(X_test)"
   ]
  },
  {
   "cell_type": "code",
   "execution_count": 10,
   "id": "65cdf56e",
   "metadata": {
    "execution": {
     "iopub.execute_input": "2023-03-27T19:45:42.331841Z",
     "iopub.status.busy": "2023-03-27T19:45:42.330685Z",
     "iopub.status.idle": "2023-03-27T19:45:42.341193Z",
     "shell.execute_reply": "2023-03-27T19:45:42.339864Z"
    },
    "papermill": {
     "duration": 0.02701,
     "end_time": "2023-03-27T19:45:42.345449",
     "exception": false,
     "start_time": "2023-03-27T19:45:42.318439",
     "status": "completed"
    },
    "tags": []
   },
   "outputs": [
    {
     "data": {
      "text/plain": [
       "array([0.19928708, 0.01722682, 0.14620281, ..., 0.8078599 , 1.28762286,\n",
       "       1.18274999])"
      ]
     },
     "execution_count": 10,
     "metadata": {},
     "output_type": "execute_result"
    }
   ],
   "source": [
    "pred"
   ]
  },
  {
   "cell_type": "code",
   "execution_count": 11,
   "id": "5dd33c82",
   "metadata": {
    "execution": {
     "iopub.execute_input": "2023-03-27T19:45:42.365363Z",
     "iopub.status.busy": "2023-03-27T19:45:42.364752Z",
     "iopub.status.idle": "2023-03-27T19:45:42.397741Z",
     "shell.execute_reply": "2023-03-27T19:45:42.396249Z"
    },
    "papermill": {
     "duration": 0.047837,
     "end_time": "2023-03-27T19:45:42.401957",
     "exception": false,
     "start_time": "2023-03-27T19:45:42.354120",
     "status": "completed"
    },
    "tags": []
   },
   "outputs": [
    {
     "name": "stdout",
     "output_type": "stream",
     "text": [
      "Your submission was successful\n"
     ]
    }
   ],
   "source": [
    "output=pd.DataFrame({'Id':test_data.ID,'WVHT(m)':pred})\n",
    "output.to_csv('submission.csv',index=False)\n",
    "print(\"Your submission was successful\")"
   ]
  },
  {
   "cell_type": "code",
   "execution_count": null,
   "id": "006db562",
   "metadata": {
    "papermill": {
     "duration": 0.008673,
     "end_time": "2023-03-27T19:45:42.419224",
     "exception": false,
     "start_time": "2023-03-27T19:45:42.410551",
     "status": "completed"
    },
    "tags": []
   },
   "outputs": [],
   "source": []
  }
 ],
 "metadata": {
  "kernelspec": {
   "display_name": "Python 3",
   "language": "python",
   "name": "python3"
  },
  "language_info": {
   "codemirror_mode": {
    "name": "ipython",
    "version": 3
   },
   "file_extension": ".py",
   "mimetype": "text/x-python",
   "name": "python",
   "nbconvert_exporter": "python",
   "pygments_lexer": "ipython3",
   "version": "3.7.12"
  },
  "papermill": {
   "default_parameters": {},
   "duration": 13.151716,
   "end_time": "2023-03-27T19:45:43.252371",
   "environment_variables": {},
   "exception": null,
   "input_path": "__notebook__.ipynb",
   "output_path": "__notebook__.ipynb",
   "parameters": {},
   "start_time": "2023-03-27T19:45:30.100655",
   "version": "2.4.0"
  }
 },
 "nbformat": 4,
 "nbformat_minor": 5
}
