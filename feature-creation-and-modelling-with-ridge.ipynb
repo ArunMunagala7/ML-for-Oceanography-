{
 "cells": [
  {
   "cell_type": "code",
   "execution_count": 1,
   "id": "0cec741c",
   "metadata": {
    "_cell_guid": "b1076dfc-b9ad-4769-8c92-a6c4dae69d19",
    "_uuid": "8f2839f25d086af736a60e9eeb907d3b93b6e0e5",
    "execution": {
     "iopub.execute_input": "2023-03-30T18:53:54.788022Z",
     "iopub.status.busy": "2023-03-30T18:53:54.787610Z",
     "iopub.status.idle": "2023-03-30T18:53:54.800669Z",
     "shell.execute_reply": "2023-03-30T18:53:54.799716Z"
    },
    "papermill": {
     "duration": 0.022331,
     "end_time": "2023-03-30T18:53:54.802972",
     "exception": false,
     "start_time": "2023-03-30T18:53:54.780641",
     "status": "completed"
    },
    "tags": []
   },
   "outputs": [
    {
     "name": "stdout",
     "output_type": "stream",
     "text": [
      "/kaggle/input/ml-for-oceanography/sample2.csv\n",
      "/kaggle/input/ml-for-oceanography/test1.csv\n",
      "/kaggle/input/ml-for-oceanography/train.csv\n"
     ]
    }
   ],
   "source": [
    "# This Python 3 environment comes with many helpful analytics libraries installed\n",
    "# It is defined by the kaggle/python Docker image: https://github.com/kaggle/docker-python\n",
    "# For example, here's several helpful packages to load\n",
    "\n",
    "import numpy as np # linear algebra\n",
    "import pandas as pd # data processing, CSV file I/O (e.g. pd.read_csv)\n",
    "\n",
    "# Input data files are available in the read-only \"../input/\" directory\n",
    "# For example, running this (by clicking run or pressing Shift+Enter) will list all files under the input directory\n",
    "\n",
    "import os\n",
    "for dirname, _, filenames in os.walk('/kaggle/input'):\n",
    "    for filename in filenames:\n",
    "        print(os.path.join(dirname, filename))\n",
    "\n",
    "# You can write up to 20GB to the current directory (/kaggle/working/) that gets preserved as output when you create a version using \"Save & Run All\" \n",
    "# You can also write temporary files to /kaggle/temp/, but they won't be saved outside of the current session"
   ]
  },
  {
   "cell_type": "code",
   "execution_count": 2,
   "id": "1e59af81",
   "metadata": {
    "execution": {
     "iopub.execute_input": "2023-03-30T18:53:54.814609Z",
     "iopub.status.busy": "2023-03-30T18:53:54.813901Z",
     "iopub.status.idle": "2023-03-30T18:53:54.879696Z",
     "shell.execute_reply": "2023-03-30T18:53:54.878619Z"
    },
    "papermill": {
     "duration": 0.074172,
     "end_time": "2023-03-30T18:53:54.881948",
     "exception": false,
     "start_time": "2023-03-30T18:53:54.807776",
     "status": "completed"
    },
    "tags": []
   },
   "outputs": [
    {
     "data": {
      "text/html": [
       "<div>\n",
       "<style scoped>\n",
       "    .dataframe tbody tr th:only-of-type {\n",
       "        vertical-align: middle;\n",
       "    }\n",
       "\n",
       "    .dataframe tbody tr th {\n",
       "        vertical-align: top;\n",
       "    }\n",
       "\n",
       "    .dataframe thead th {\n",
       "        text-align: right;\n",
       "    }\n",
       "</style>\n",
       "<table border=\"1\" class=\"dataframe\">\n",
       "  <thead>\n",
       "    <tr style=\"text-align: right;\">\n",
       "      <th></th>\n",
       "      <th>ID</th>\n",
       "      <th>#YY</th>\n",
       "      <th>MM</th>\n",
       "      <th>DD</th>\n",
       "      <th>hh</th>\n",
       "      <th>mm</th>\n",
       "      <th>WDIR(degT)</th>\n",
       "      <th>WSPD(m/s)</th>\n",
       "      <th>GST(m/s)</th>\n",
       "      <th>DPD(sec)</th>\n",
       "      <th>APD(sec)</th>\n",
       "      <th>MWD(degT)</th>\n",
       "      <th>PRES(hPa)</th>\n",
       "      <th>ATMP(degC)</th>\n",
       "      <th>WTMP(degC)</th>\n",
       "      <th>DEWP(degC)</th>\n",
       "      <th>WVHT(m)</th>\n",
       "    </tr>\n",
       "  </thead>\n",
       "  <tbody>\n",
       "    <tr>\n",
       "      <th>0</th>\n",
       "      <td>2017424150</td>\n",
       "      <td>2017</td>\n",
       "      <td>4</td>\n",
       "      <td>24</td>\n",
       "      <td>1</td>\n",
       "      <td>50</td>\n",
       "      <td>23</td>\n",
       "      <td>3.0</td>\n",
       "      <td>3.6</td>\n",
       "      <td>4.17</td>\n",
       "      <td>3.33</td>\n",
       "      <td>349</td>\n",
       "      <td>1019.1</td>\n",
       "      <td>4.7</td>\n",
       "      <td>5.1</td>\n",
       "      <td>4.2</td>\n",
       "      <td>0.39</td>\n",
       "    </tr>\n",
       "    <tr>\n",
       "      <th>1</th>\n",
       "      <td>2017424250</td>\n",
       "      <td>2017</td>\n",
       "      <td>4</td>\n",
       "      <td>24</td>\n",
       "      <td>2</td>\n",
       "      <td>50</td>\n",
       "      <td>30</td>\n",
       "      <td>2.9</td>\n",
       "      <td>3.3</td>\n",
       "      <td>5.26</td>\n",
       "      <td>4.21</td>\n",
       "      <td>358</td>\n",
       "      <td>1018.8</td>\n",
       "      <td>4.6</td>\n",
       "      <td>4.8</td>\n",
       "      <td>4.1</td>\n",
       "      <td>0.65</td>\n",
       "    </tr>\n",
       "    <tr>\n",
       "      <th>2</th>\n",
       "      <td>2017424350</td>\n",
       "      <td>2017</td>\n",
       "      <td>4</td>\n",
       "      <td>24</td>\n",
       "      <td>3</td>\n",
       "      <td>50</td>\n",
       "      <td>360</td>\n",
       "      <td>2.2</td>\n",
       "      <td>2.5</td>\n",
       "      <td>5.88</td>\n",
       "      <td>4.79</td>\n",
       "      <td>11</td>\n",
       "      <td>1018.3</td>\n",
       "      <td>4.6</td>\n",
       "      <td>4.7</td>\n",
       "      <td>4.2</td>\n",
       "      <td>0.90</td>\n",
       "    </tr>\n",
       "    <tr>\n",
       "      <th>3</th>\n",
       "      <td>2017424450</td>\n",
       "      <td>2017</td>\n",
       "      <td>4</td>\n",
       "      <td>24</td>\n",
       "      <td>4</td>\n",
       "      <td>50</td>\n",
       "      <td>355</td>\n",
       "      <td>2.5</td>\n",
       "      <td>3.1</td>\n",
       "      <td>5.88</td>\n",
       "      <td>4.95</td>\n",
       "      <td>23</td>\n",
       "      <td>1018.1</td>\n",
       "      <td>4.6</td>\n",
       "      <td>4.6</td>\n",
       "      <td>4.2</td>\n",
       "      <td>0.91</td>\n",
       "    </tr>\n",
       "    <tr>\n",
       "      <th>4</th>\n",
       "      <td>2017424550</td>\n",
       "      <td>2017</td>\n",
       "      <td>4</td>\n",
       "      <td>24</td>\n",
       "      <td>5</td>\n",
       "      <td>50</td>\n",
       "      <td>355</td>\n",
       "      <td>3.5</td>\n",
       "      <td>4.5</td>\n",
       "      <td>6.25</td>\n",
       "      <td>4.98</td>\n",
       "      <td>26</td>\n",
       "      <td>1018.3</td>\n",
       "      <td>4.5</td>\n",
       "      <td>4.6</td>\n",
       "      <td>4.0</td>\n",
       "      <td>0.88</td>\n",
       "    </tr>\n",
       "  </tbody>\n",
       "</table>\n",
       "</div>"
      ],
      "text/plain": [
       "           ID   #YY  MM  DD  hh  mm  WDIR(degT)  WSPD(m/s)  GST(m/s)  \\\n",
       "0  2017424150  2017   4  24   1  50          23        3.0       3.6   \n",
       "1  2017424250  2017   4  24   2  50          30        2.9       3.3   \n",
       "2  2017424350  2017   4  24   3  50         360        2.2       2.5   \n",
       "3  2017424450  2017   4  24   4  50         355        2.5       3.1   \n",
       "4  2017424550  2017   4  24   5  50         355        3.5       4.5   \n",
       "\n",
       "   DPD(sec)  APD(sec)  MWD(degT)  PRES(hPa)  ATMP(degC)  WTMP(degC)  \\\n",
       "0      4.17      3.33        349     1019.1         4.7         5.1   \n",
       "1      5.26      4.21        358     1018.8         4.6         4.8   \n",
       "2      5.88      4.79         11     1018.3         4.6         4.7   \n",
       "3      5.88      4.95         23     1018.1         4.6         4.6   \n",
       "4      6.25      4.98         26     1018.3         4.5         4.6   \n",
       "\n",
       "   DEWP(degC)  WVHT(m)  \n",
       "0         4.2     0.39  \n",
       "1         4.1     0.65  \n",
       "2         4.2     0.90  \n",
       "3         4.2     0.91  \n",
       "4         4.0     0.88  "
      ]
     },
     "execution_count": 2,
     "metadata": {},
     "output_type": "execute_result"
    }
   ],
   "source": [
    "train_data=pd.read_csv('/kaggle/input/ml-for-oceanography/train.csv')\n",
    "test_data=pd.read_csv('/kaggle/input/ml-for-oceanography/test1.csv')\n",
    "train_data.head()"
   ]
  },
  {
   "cell_type": "markdown",
   "id": "37146dac",
   "metadata": {
    "papermill": {
     "duration": 0.004562,
     "end_time": "2023-03-30T18:53:54.891477",
     "exception": false,
     "start_time": "2023-03-30T18:53:54.886915",
     "status": "completed"
    },
    "tags": []
   },
   "source": [
    "creating some features"
   ]
  },
  {
   "cell_type": "code",
   "execution_count": 3,
   "id": "9560d808",
   "metadata": {
    "execution": {
     "iopub.execute_input": "2023-03-30T18:53:54.903319Z",
     "iopub.status.busy": "2023-03-30T18:53:54.902740Z",
     "iopub.status.idle": "2023-03-30T18:53:54.907422Z",
     "shell.execute_reply": "2023-03-30T18:53:54.906215Z"
    },
    "papermill": {
     "duration": 0.013285,
     "end_time": "2023-03-30T18:53:54.909728",
     "exception": false,
     "start_time": "2023-03-30T18:53:54.896443",
     "status": "completed"
    },
    "tags": []
   },
   "outputs": [],
   "source": [
    "# train_data['WPOW']= 0.5 * 1025 * 9.81 * train_data['WVHT(m)'] * train_data['WVHT(m)'] * train_data['DPD(sec)']"
   ]
  },
  {
   "cell_type": "code",
   "execution_count": 4,
   "id": "1e2aac8a",
   "metadata": {
    "execution": {
     "iopub.execute_input": "2023-03-30T18:53:54.921758Z",
     "iopub.status.busy": "2023-03-30T18:53:54.921310Z",
     "iopub.status.idle": "2023-03-30T18:53:54.939865Z",
     "shell.execute_reply": "2023-03-30T18:53:54.939033Z"
    },
    "papermill": {
     "duration": 0.027804,
     "end_time": "2023-03-30T18:53:54.942614",
     "exception": false,
     "start_time": "2023-03-30T18:53:54.914810",
     "status": "completed"
    },
    "tags": []
   },
   "outputs": [
    {
     "data": {
      "text/html": [
       "<div>\n",
       "<style scoped>\n",
       "    .dataframe tbody tr th:only-of-type {\n",
       "        vertical-align: middle;\n",
       "    }\n",
       "\n",
       "    .dataframe tbody tr th {\n",
       "        vertical-align: top;\n",
       "    }\n",
       "\n",
       "    .dataframe thead th {\n",
       "        text-align: right;\n",
       "    }\n",
       "</style>\n",
       "<table border=\"1\" class=\"dataframe\">\n",
       "  <thead>\n",
       "    <tr style=\"text-align: right;\">\n",
       "      <th></th>\n",
       "      <th>ID</th>\n",
       "      <th>#YY</th>\n",
       "      <th>MM</th>\n",
       "      <th>DD</th>\n",
       "      <th>hh</th>\n",
       "      <th>mm</th>\n",
       "      <th>WDIR(degT)</th>\n",
       "      <th>WSPD(m/s)</th>\n",
       "      <th>GST(m/s)</th>\n",
       "      <th>DPD(sec)</th>\n",
       "      <th>APD(sec)</th>\n",
       "      <th>MWD(degT)</th>\n",
       "      <th>PRES(hPa)</th>\n",
       "      <th>ATMP(degC)</th>\n",
       "      <th>WTMP(degC)</th>\n",
       "      <th>DEWP(degC)</th>\n",
       "      <th>WVHT(m)</th>\n",
       "    </tr>\n",
       "  </thead>\n",
       "  <tbody>\n",
       "    <tr>\n",
       "      <th>0</th>\n",
       "      <td>2017424150</td>\n",
       "      <td>2017</td>\n",
       "      <td>4</td>\n",
       "      <td>24</td>\n",
       "      <td>1</td>\n",
       "      <td>50</td>\n",
       "      <td>23</td>\n",
       "      <td>3.0</td>\n",
       "      <td>3.6</td>\n",
       "      <td>4.17</td>\n",
       "      <td>3.33</td>\n",
       "      <td>349</td>\n",
       "      <td>1019.1</td>\n",
       "      <td>4.7</td>\n",
       "      <td>5.1</td>\n",
       "      <td>4.2</td>\n",
       "      <td>0.39</td>\n",
       "    </tr>\n",
       "    <tr>\n",
       "      <th>1</th>\n",
       "      <td>2017424250</td>\n",
       "      <td>2017</td>\n",
       "      <td>4</td>\n",
       "      <td>24</td>\n",
       "      <td>2</td>\n",
       "      <td>50</td>\n",
       "      <td>30</td>\n",
       "      <td>2.9</td>\n",
       "      <td>3.3</td>\n",
       "      <td>5.26</td>\n",
       "      <td>4.21</td>\n",
       "      <td>358</td>\n",
       "      <td>1018.8</td>\n",
       "      <td>4.6</td>\n",
       "      <td>4.8</td>\n",
       "      <td>4.1</td>\n",
       "      <td>0.65</td>\n",
       "    </tr>\n",
       "    <tr>\n",
       "      <th>2</th>\n",
       "      <td>2017424350</td>\n",
       "      <td>2017</td>\n",
       "      <td>4</td>\n",
       "      <td>24</td>\n",
       "      <td>3</td>\n",
       "      <td>50</td>\n",
       "      <td>360</td>\n",
       "      <td>2.2</td>\n",
       "      <td>2.5</td>\n",
       "      <td>5.88</td>\n",
       "      <td>4.79</td>\n",
       "      <td>11</td>\n",
       "      <td>1018.3</td>\n",
       "      <td>4.6</td>\n",
       "      <td>4.7</td>\n",
       "      <td>4.2</td>\n",
       "      <td>0.90</td>\n",
       "    </tr>\n",
       "    <tr>\n",
       "      <th>3</th>\n",
       "      <td>2017424450</td>\n",
       "      <td>2017</td>\n",
       "      <td>4</td>\n",
       "      <td>24</td>\n",
       "      <td>4</td>\n",
       "      <td>50</td>\n",
       "      <td>355</td>\n",
       "      <td>2.5</td>\n",
       "      <td>3.1</td>\n",
       "      <td>5.88</td>\n",
       "      <td>4.95</td>\n",
       "      <td>23</td>\n",
       "      <td>1018.1</td>\n",
       "      <td>4.6</td>\n",
       "      <td>4.6</td>\n",
       "      <td>4.2</td>\n",
       "      <td>0.91</td>\n",
       "    </tr>\n",
       "    <tr>\n",
       "      <th>4</th>\n",
       "      <td>2017424550</td>\n",
       "      <td>2017</td>\n",
       "      <td>4</td>\n",
       "      <td>24</td>\n",
       "      <td>5</td>\n",
       "      <td>50</td>\n",
       "      <td>355</td>\n",
       "      <td>3.5</td>\n",
       "      <td>4.5</td>\n",
       "      <td>6.25</td>\n",
       "      <td>4.98</td>\n",
       "      <td>26</td>\n",
       "      <td>1018.3</td>\n",
       "      <td>4.5</td>\n",
       "      <td>4.6</td>\n",
       "      <td>4.0</td>\n",
       "      <td>0.88</td>\n",
       "    </tr>\n",
       "  </tbody>\n",
       "</table>\n",
       "</div>"
      ],
      "text/plain": [
       "           ID   #YY  MM  DD  hh  mm  WDIR(degT)  WSPD(m/s)  GST(m/s)  \\\n",
       "0  2017424150  2017   4  24   1  50          23        3.0       3.6   \n",
       "1  2017424250  2017   4  24   2  50          30        2.9       3.3   \n",
       "2  2017424350  2017   4  24   3  50         360        2.2       2.5   \n",
       "3  2017424450  2017   4  24   4  50         355        2.5       3.1   \n",
       "4  2017424550  2017   4  24   5  50         355        3.5       4.5   \n",
       "\n",
       "   DPD(sec)  APD(sec)  MWD(degT)  PRES(hPa)  ATMP(degC)  WTMP(degC)  \\\n",
       "0      4.17      3.33        349     1019.1         4.7         5.1   \n",
       "1      5.26      4.21        358     1018.8         4.6         4.8   \n",
       "2      5.88      4.79         11     1018.3         4.6         4.7   \n",
       "3      5.88      4.95         23     1018.1         4.6         4.6   \n",
       "4      6.25      4.98         26     1018.3         4.5         4.6   \n",
       "\n",
       "   DEWP(degC)  WVHT(m)  \n",
       "0         4.2     0.39  \n",
       "1         4.1     0.65  \n",
       "2         4.2     0.90  \n",
       "3         4.2     0.91  \n",
       "4         4.0     0.88  "
      ]
     },
     "execution_count": 4,
     "metadata": {},
     "output_type": "execute_result"
    }
   ],
   "source": [
    "train_data.head()"
   ]
  },
  {
   "cell_type": "code",
   "execution_count": 5,
   "id": "652c4719",
   "metadata": {
    "execution": {
     "iopub.execute_input": "2023-03-30T18:53:54.955575Z",
     "iopub.status.busy": "2023-03-30T18:53:54.955180Z",
     "iopub.status.idle": "2023-03-30T18:53:54.959347Z",
     "shell.execute_reply": "2023-03-30T18:53:54.958594Z"
    },
    "papermill": {
     "duration": 0.013844,
     "end_time": "2023-03-30T18:53:54.961911",
     "exception": false,
     "start_time": "2023-03-30T18:53:54.948067",
     "status": "completed"
    },
    "tags": []
   },
   "outputs": [],
   "source": [
    "df=train_data.copy()"
   ]
  },
  {
   "cell_type": "markdown",
   "id": "f81da8a4",
   "metadata": {
    "papermill": {
     "duration": 0.004725,
     "end_time": "2023-03-30T18:53:54.972004",
     "exception": false,
     "start_time": "2023-03-30T18:53:54.967279",
     "status": "completed"
    },
    "tags": []
   },
   "source": [
    "calculating the sine and cosine: Instead of using the raw wind direction feature, it may be helpful to convert it into its sine and cosine components to capture any directional patterns in the wind that affect wave height."
   ]
  },
  {
   "cell_type": "code",
   "execution_count": 6,
   "id": "5dd0e40c",
   "metadata": {
    "execution": {
     "iopub.execute_input": "2023-03-30T18:53:54.984037Z",
     "iopub.status.busy": "2023-03-30T18:53:54.983406Z",
     "iopub.status.idle": "2023-03-30T18:53:55.009701Z",
     "shell.execute_reply": "2023-03-30T18:53:55.007762Z"
    },
    "papermill": {
     "duration": 0.035893,
     "end_time": "2023-03-30T18:53:55.012818",
     "exception": false,
     "start_time": "2023-03-30T18:53:54.976925",
     "status": "completed"
    },
    "tags": []
   },
   "outputs": [],
   "source": [
    "# Calculate the sine and cosine of wind direction\n",
    "df['WDIR_sin'] = np.sin(np.radians(df['WDIR(degT)']))\n",
    "df['WDIR_cos'] = np.cos(np.radians(df['WDIR(degT)']))\n",
    "#wind speed cubed\n",
    "df['WSCB']=np.power(df['WSPD(m/s)'],3)\n",
    "#dominant wind power squared\n",
    "df['DPD2']=np.power(df['DPD(sec)'],2)\n",
    "#temperature differene between air and water\n",
    "df['TDIF']=df['ATMP(degC)']-df['WTMP(degC)']\n",
    "test_data['WDIR_sin'] = np.sin(np.radians(test_data['WDIR(degT)']))\n",
    "test_data['WDIR_cos'] = np.cos(np.radians(test_data['WDIR(degT)']))\n",
    "test_data['WSCB']=np.power(test_data['WSPD(m/s)'],3)\n",
    "test_data['DPD2']=np.power(test_data['DPD(sec)'],2)\n",
    "test_data['TDIF']=test_data['ATMP(degC)']-test_data['WTMP(degC)']"
   ]
  },
  {
   "cell_type": "code",
   "execution_count": 7,
   "id": "9389d9d7",
   "metadata": {
    "execution": {
     "iopub.execute_input": "2023-03-30T18:53:55.025950Z",
     "iopub.status.busy": "2023-03-30T18:53:55.025586Z",
     "iopub.status.idle": "2023-03-30T18:53:55.055863Z",
     "shell.execute_reply": "2023-03-30T18:53:55.054079Z"
    },
    "papermill": {
     "duration": 0.039629,
     "end_time": "2023-03-30T18:53:55.058626",
     "exception": false,
     "start_time": "2023-03-30T18:53:55.018997",
     "status": "completed"
    },
    "tags": []
   },
   "outputs": [
    {
     "data": {
      "text/html": [
       "<div>\n",
       "<style scoped>\n",
       "    .dataframe tbody tr th:only-of-type {\n",
       "        vertical-align: middle;\n",
       "    }\n",
       "\n",
       "    .dataframe tbody tr th {\n",
       "        vertical-align: top;\n",
       "    }\n",
       "\n",
       "    .dataframe thead th {\n",
       "        text-align: right;\n",
       "    }\n",
       "</style>\n",
       "<table border=\"1\" class=\"dataframe\">\n",
       "  <thead>\n",
       "    <tr style=\"text-align: right;\">\n",
       "      <th></th>\n",
       "      <th>ID</th>\n",
       "      <th>#YY</th>\n",
       "      <th>MM</th>\n",
       "      <th>DD</th>\n",
       "      <th>hh</th>\n",
       "      <th>mm</th>\n",
       "      <th>WDIR(degT)</th>\n",
       "      <th>WSPD(m/s)</th>\n",
       "      <th>GST(m/s)</th>\n",
       "      <th>DPD(sec)</th>\n",
       "      <th>...</th>\n",
       "      <th>PRES(hPa)</th>\n",
       "      <th>ATMP(degC)</th>\n",
       "      <th>WTMP(degC)</th>\n",
       "      <th>DEWP(degC)</th>\n",
       "      <th>WVHT(m)</th>\n",
       "      <th>WDIR_sin</th>\n",
       "      <th>WDIR_cos</th>\n",
       "      <th>WSCB</th>\n",
       "      <th>DPD2</th>\n",
       "      <th>TDIF</th>\n",
       "    </tr>\n",
       "  </thead>\n",
       "  <tbody>\n",
       "    <tr>\n",
       "      <th>0</th>\n",
       "      <td>2017424150</td>\n",
       "      <td>2017</td>\n",
       "      <td>4</td>\n",
       "      <td>24</td>\n",
       "      <td>1</td>\n",
       "      <td>50</td>\n",
       "      <td>23</td>\n",
       "      <td>3.0</td>\n",
       "      <td>3.6</td>\n",
       "      <td>4.17</td>\n",
       "      <td>...</td>\n",
       "      <td>1019.1</td>\n",
       "      <td>4.7</td>\n",
       "      <td>5.1</td>\n",
       "      <td>4.2</td>\n",
       "      <td>0.39</td>\n",
       "      <td>3.907311e-01</td>\n",
       "      <td>0.920505</td>\n",
       "      <td>27.000</td>\n",
       "      <td>17.3889</td>\n",
       "      <td>-0.4</td>\n",
       "    </tr>\n",
       "    <tr>\n",
       "      <th>1</th>\n",
       "      <td>2017424250</td>\n",
       "      <td>2017</td>\n",
       "      <td>4</td>\n",
       "      <td>24</td>\n",
       "      <td>2</td>\n",
       "      <td>50</td>\n",
       "      <td>30</td>\n",
       "      <td>2.9</td>\n",
       "      <td>3.3</td>\n",
       "      <td>5.26</td>\n",
       "      <td>...</td>\n",
       "      <td>1018.8</td>\n",
       "      <td>4.6</td>\n",
       "      <td>4.8</td>\n",
       "      <td>4.1</td>\n",
       "      <td>0.65</td>\n",
       "      <td>5.000000e-01</td>\n",
       "      <td>0.866025</td>\n",
       "      <td>24.389</td>\n",
       "      <td>27.6676</td>\n",
       "      <td>-0.2</td>\n",
       "    </tr>\n",
       "    <tr>\n",
       "      <th>2</th>\n",
       "      <td>2017424350</td>\n",
       "      <td>2017</td>\n",
       "      <td>4</td>\n",
       "      <td>24</td>\n",
       "      <td>3</td>\n",
       "      <td>50</td>\n",
       "      <td>360</td>\n",
       "      <td>2.2</td>\n",
       "      <td>2.5</td>\n",
       "      <td>5.88</td>\n",
       "      <td>...</td>\n",
       "      <td>1018.3</td>\n",
       "      <td>4.6</td>\n",
       "      <td>4.7</td>\n",
       "      <td>4.2</td>\n",
       "      <td>0.90</td>\n",
       "      <td>-2.449294e-16</td>\n",
       "      <td>1.000000</td>\n",
       "      <td>10.648</td>\n",
       "      <td>34.5744</td>\n",
       "      <td>-0.1</td>\n",
       "    </tr>\n",
       "    <tr>\n",
       "      <th>3</th>\n",
       "      <td>2017424450</td>\n",
       "      <td>2017</td>\n",
       "      <td>4</td>\n",
       "      <td>24</td>\n",
       "      <td>4</td>\n",
       "      <td>50</td>\n",
       "      <td>355</td>\n",
       "      <td>2.5</td>\n",
       "      <td>3.1</td>\n",
       "      <td>5.88</td>\n",
       "      <td>...</td>\n",
       "      <td>1018.1</td>\n",
       "      <td>4.6</td>\n",
       "      <td>4.6</td>\n",
       "      <td>4.2</td>\n",
       "      <td>0.91</td>\n",
       "      <td>-8.715574e-02</td>\n",
       "      <td>0.996195</td>\n",
       "      <td>15.625</td>\n",
       "      <td>34.5744</td>\n",
       "      <td>0.0</td>\n",
       "    </tr>\n",
       "    <tr>\n",
       "      <th>4</th>\n",
       "      <td>2017424550</td>\n",
       "      <td>2017</td>\n",
       "      <td>4</td>\n",
       "      <td>24</td>\n",
       "      <td>5</td>\n",
       "      <td>50</td>\n",
       "      <td>355</td>\n",
       "      <td>3.5</td>\n",
       "      <td>4.5</td>\n",
       "      <td>6.25</td>\n",
       "      <td>...</td>\n",
       "      <td>1018.3</td>\n",
       "      <td>4.5</td>\n",
       "      <td>4.6</td>\n",
       "      <td>4.0</td>\n",
       "      <td>0.88</td>\n",
       "      <td>-8.715574e-02</td>\n",
       "      <td>0.996195</td>\n",
       "      <td>42.875</td>\n",
       "      <td>39.0625</td>\n",
       "      <td>-0.1</td>\n",
       "    </tr>\n",
       "  </tbody>\n",
       "</table>\n",
       "<p>5 rows × 22 columns</p>\n",
       "</div>"
      ],
      "text/plain": [
       "           ID   #YY  MM  DD  hh  mm  WDIR(degT)  WSPD(m/s)  GST(m/s)  \\\n",
       "0  2017424150  2017   4  24   1  50          23        3.0       3.6   \n",
       "1  2017424250  2017   4  24   2  50          30        2.9       3.3   \n",
       "2  2017424350  2017   4  24   3  50         360        2.2       2.5   \n",
       "3  2017424450  2017   4  24   4  50         355        2.5       3.1   \n",
       "4  2017424550  2017   4  24   5  50         355        3.5       4.5   \n",
       "\n",
       "   DPD(sec)  ...  PRES(hPa)  ATMP(degC)  WTMP(degC)  DEWP(degC)  WVHT(m)  \\\n",
       "0      4.17  ...     1019.1         4.7         5.1         4.2     0.39   \n",
       "1      5.26  ...     1018.8         4.6         4.8         4.1     0.65   \n",
       "2      5.88  ...     1018.3         4.6         4.7         4.2     0.90   \n",
       "3      5.88  ...     1018.1         4.6         4.6         4.2     0.91   \n",
       "4      6.25  ...     1018.3         4.5         4.6         4.0     0.88   \n",
       "\n",
       "       WDIR_sin  WDIR_cos    WSCB     DPD2  TDIF  \n",
       "0  3.907311e-01  0.920505  27.000  17.3889  -0.4  \n",
       "1  5.000000e-01  0.866025  24.389  27.6676  -0.2  \n",
       "2 -2.449294e-16  1.000000  10.648  34.5744  -0.1  \n",
       "3 -8.715574e-02  0.996195  15.625  34.5744   0.0  \n",
       "4 -8.715574e-02  0.996195  42.875  39.0625  -0.1  \n",
       "\n",
       "[5 rows x 22 columns]"
      ]
     },
     "execution_count": 7,
     "metadata": {},
     "output_type": "execute_result"
    }
   ],
   "source": [
    "df.head()"
   ]
  },
  {
   "cell_type": "code",
   "execution_count": 8,
   "id": "5f7656d1",
   "metadata": {
    "execution": {
     "iopub.execute_input": "2023-03-30T18:53:55.071501Z",
     "iopub.status.busy": "2023-03-30T18:53:55.071066Z",
     "iopub.status.idle": "2023-03-30T18:53:55.078411Z",
     "shell.execute_reply": "2023-03-30T18:53:55.077012Z"
    },
    "papermill": {
     "duration": 0.016201,
     "end_time": "2023-03-30T18:53:55.080445",
     "exception": false,
     "start_time": "2023-03-30T18:53:55.064244",
     "status": "completed"
    },
    "tags": []
   },
   "outputs": [
    {
     "data": {
      "text/plain": [
       "(3886, 22)"
      ]
     },
     "execution_count": 8,
     "metadata": {},
     "output_type": "execute_result"
    }
   ],
   "source": [
    "df.shape"
   ]
  },
  {
   "cell_type": "code",
   "execution_count": 9,
   "id": "a5d1f1dc",
   "metadata": {
    "execution": {
     "iopub.execute_input": "2023-03-30T18:53:55.093695Z",
     "iopub.status.busy": "2023-03-30T18:53:55.092898Z",
     "iopub.status.idle": "2023-03-30T18:53:55.098897Z",
     "shell.execute_reply": "2023-03-30T18:53:55.098203Z"
    },
    "papermill": {
     "duration": 0.014947,
     "end_time": "2023-03-30T18:53:55.100748",
     "exception": false,
     "start_time": "2023-03-30T18:53:55.085801",
     "status": "completed"
    },
    "tags": []
   },
   "outputs": [
    {
     "data": {
      "text/plain": [
       "Index(['ID', '#YY', 'MM', 'DD', 'hh', 'mm', 'WDIR(degT)', 'WSPD(m/s)',\n",
       "       'GST(m/s)', 'DPD(sec)', 'APD(sec)', 'MWD(degT)', 'PRES(hPa)',\n",
       "       'ATMP(degC)', 'WTMP(degC)', 'DEWP(degC)', 'WVHT(m)', 'WDIR_sin',\n",
       "       'WDIR_cos', 'WSCB', 'DPD2', 'TDIF'],\n",
       "      dtype='object')"
      ]
     },
     "execution_count": 9,
     "metadata": {},
     "output_type": "execute_result"
    }
   ],
   "source": [
    "df.columns"
   ]
  },
  {
   "cell_type": "code",
   "execution_count": 10,
   "id": "b5f7929c",
   "metadata": {
    "execution": {
     "iopub.execute_input": "2023-03-30T18:53:55.114223Z",
     "iopub.status.busy": "2023-03-30T18:53:55.113154Z",
     "iopub.status.idle": "2023-03-30T18:53:55.122331Z",
     "shell.execute_reply": "2023-03-30T18:53:55.120724Z"
    },
    "papermill": {
     "duration": 0.018352,
     "end_time": "2023-03-30T18:53:55.124659",
     "exception": false,
     "start_time": "2023-03-30T18:53:55.106307",
     "status": "completed"
    },
    "tags": []
   },
   "outputs": [],
   "source": [
    "y=df['WVHT(m)']\n",
    "df=df.drop(columns=['WVHT(m)'])\n",
    "X = df.iloc[:, [2, 4, *range(6, df.shape[1])]]"
   ]
  },
  {
   "cell_type": "code",
   "execution_count": 11,
   "id": "3dc8941b",
   "metadata": {
    "execution": {
     "iopub.execute_input": "2023-03-30T18:53:55.137462Z",
     "iopub.status.busy": "2023-03-30T18:53:55.137076Z",
     "iopub.status.idle": "2023-03-30T18:53:55.143350Z",
     "shell.execute_reply": "2023-03-30T18:53:55.142190Z"
    },
    "papermill": {
     "duration": 0.015117,
     "end_time": "2023-03-30T18:53:55.145409",
     "exception": false,
     "start_time": "2023-03-30T18:53:55.130292",
     "status": "completed"
    },
    "tags": []
   },
   "outputs": [],
   "source": [
    "X_test=test_data.iloc[:, [2, 4, *range(6, df.shape[1])]]"
   ]
  },
  {
   "cell_type": "markdown",
   "id": "375b7af3",
   "metadata": {
    "papermill": {
     "duration": 0.00514,
     "end_time": "2023-03-30T18:53:55.157012",
     "exception": false,
     "start_time": "2023-03-30T18:53:55.151872",
     "status": "completed"
    },
    "tags": []
   },
   "source": [
    "using ridge regression along with gridsearchCV\n"
   ]
  },
  {
   "cell_type": "code",
   "execution_count": 12,
   "id": "1d7e9beb",
   "metadata": {
    "execution": {
     "iopub.execute_input": "2023-03-30T18:53:55.169837Z",
     "iopub.status.busy": "2023-03-30T18:53:55.169410Z",
     "iopub.status.idle": "2023-03-30T18:53:56.831521Z",
     "shell.execute_reply": "2023-03-30T18:53:56.830641Z"
    },
    "papermill": {
     "duration": 1.671529,
     "end_time": "2023-03-30T18:53:56.833975",
     "exception": false,
     "start_time": "2023-03-30T18:53:55.162446",
     "status": "completed"
    },
    "scrolled": true,
    "tags": []
   },
   "outputs": [
    {
     "name": "stdout",
     "output_type": "stream",
     "text": [
      "Best hyperparameters: {'alpha': 15.0, 'fit_intercept': False}\n",
      "Test set mean squared error: 0.01657062752712713\n"
     ]
    }
   ],
   "source": [
    "# Defining and training the ridge regressor\n",
    "from sklearn.linear_model import Ridge\n",
    "from sklearn.model_selection import GridSearchCV\n",
    "ridge = Ridge()\n",
    "param_grid = {\n",
    "    'alpha': [1.0, 10.0,12.5,15.0,17.5,20.0,30.0],\n",
    "    'fit_intercept': [True, False]\n",
    "}\n",
    "grid_search = GridSearchCV(estimator=ridge, param_grid=param_grid, scoring='neg_mean_squared_error', cv=5)\n",
    "grid_search.fit(X, y)\n",
    "print(\"Best hyperparameters:\", grid_search.best_params_)\n",
    "print(\"Test set mean squared error:\", -grid_search.best_score_)"
   ]
  },
  {
   "cell_type": "markdown",
   "id": "c93afb4e",
   "metadata": {
    "papermill": {
     "duration": 0.00676,
     "end_time": "2023-03-30T18:53:56.848264",
     "exception": false,
     "start_time": "2023-03-30T18:53:56.841504",
     "status": "completed"
    },
    "tags": []
   },
   "source": [
    "making predictions"
   ]
  },
  {
   "cell_type": "code",
   "execution_count": 13,
   "id": "de78f45a",
   "metadata": {
    "execution": {
     "iopub.execute_input": "2023-03-30T18:53:56.865323Z",
     "iopub.status.busy": "2023-03-30T18:53:56.864726Z",
     "iopub.status.idle": "2023-03-30T18:53:56.871773Z",
     "shell.execute_reply": "2023-03-30T18:53:56.870920Z"
    },
    "papermill": {
     "duration": 0.019138,
     "end_time": "2023-03-30T18:53:56.875243",
     "exception": false,
     "start_time": "2023-03-30T18:53:56.856105",
     "status": "completed"
    },
    "tags": []
   },
   "outputs": [],
   "source": [
    "pred=grid_search.predict(X_test)"
   ]
  },
  {
   "cell_type": "code",
   "execution_count": 14,
   "id": "43a2014a",
   "metadata": {
    "execution": {
     "iopub.execute_input": "2023-03-30T18:53:56.891567Z",
     "iopub.status.busy": "2023-03-30T18:53:56.890716Z",
     "iopub.status.idle": "2023-03-30T18:53:56.910516Z",
     "shell.execute_reply": "2023-03-30T18:53:56.909634Z"
    },
    "papermill": {
     "duration": 0.030293,
     "end_time": "2023-03-30T18:53:56.912811",
     "exception": false,
     "start_time": "2023-03-30T18:53:56.882518",
     "status": "completed"
    },
    "tags": []
   },
   "outputs": [
    {
     "name": "stdout",
     "output_type": "stream",
     "text": [
      "Your submission was successful\n"
     ]
    }
   ],
   "source": [
    "output=pd.DataFrame({'Id':test_data.ID,'WVHT(m)':pred})\n",
    "output.to_csv('submission.csv',index=False)\n",
    "print(\"Your submission was successful\")"
   ]
  },
  {
   "cell_type": "code",
   "execution_count": 15,
   "id": "52ae2563",
   "metadata": {
    "execution": {
     "iopub.execute_input": "2023-03-30T18:53:56.930599Z",
     "iopub.status.busy": "2023-03-30T18:53:56.929578Z",
     "iopub.status.idle": "2023-03-30T18:53:56.943193Z",
     "shell.execute_reply": "2023-03-30T18:53:56.942060Z"
    },
    "papermill": {
     "duration": 0.024558,
     "end_time": "2023-03-30T18:53:56.945574",
     "exception": false,
     "start_time": "2023-03-30T18:53:56.921016",
     "status": "completed"
    },
    "tags": []
   },
   "outputs": [
    {
     "data": {
      "text/html": [
       "<div>\n",
       "<style scoped>\n",
       "    .dataframe tbody tr th:only-of-type {\n",
       "        vertical-align: middle;\n",
       "    }\n",
       "\n",
       "    .dataframe tbody tr th {\n",
       "        vertical-align: top;\n",
       "    }\n",
       "\n",
       "    .dataframe thead th {\n",
       "        text-align: right;\n",
       "    }\n",
       "</style>\n",
       "<table border=\"1\" class=\"dataframe\">\n",
       "  <thead>\n",
       "    <tr style=\"text-align: right;\">\n",
       "      <th></th>\n",
       "      <th>Id</th>\n",
       "      <th>WVHT(m)</th>\n",
       "    </tr>\n",
       "  </thead>\n",
       "  <tbody>\n",
       "    <tr>\n",
       "      <th>0</th>\n",
       "      <td>2019722240</td>\n",
       "      <td>0.253014</td>\n",
       "    </tr>\n",
       "    <tr>\n",
       "      <th>1</th>\n",
       "      <td>2019722340</td>\n",
       "      <td>0.071036</td>\n",
       "    </tr>\n",
       "    <tr>\n",
       "      <th>2</th>\n",
       "      <td>201973140</td>\n",
       "      <td>0.174326</td>\n",
       "    </tr>\n",
       "    <tr>\n",
       "      <th>3</th>\n",
       "      <td>2019761040</td>\n",
       "      <td>0.126662</td>\n",
       "    </tr>\n",
       "    <tr>\n",
       "      <th>4</th>\n",
       "      <td>2019761140</td>\n",
       "      <td>0.185696</td>\n",
       "    </tr>\n",
       "  </tbody>\n",
       "</table>\n",
       "</div>"
      ],
      "text/plain": [
       "           Id   WVHT(m)\n",
       "0  2019722240  0.253014\n",
       "1  2019722340  0.071036\n",
       "2   201973140  0.174326\n",
       "3  2019761040  0.126662\n",
       "4  2019761140  0.185696"
      ]
     },
     "execution_count": 15,
     "metadata": {},
     "output_type": "execute_result"
    }
   ],
   "source": [
    "output.head()"
   ]
  },
  {
   "cell_type": "code",
   "execution_count": null,
   "id": "14236c89",
   "metadata": {
    "papermill": {
     "duration": 0.007056,
     "end_time": "2023-03-30T18:53:56.960280",
     "exception": false,
     "start_time": "2023-03-30T18:53:56.953224",
     "status": "completed"
    },
    "tags": []
   },
   "outputs": [],
   "source": []
  }
 ],
 "metadata": {
  "kernelspec": {
   "display_name": "Python 3",
   "language": "python",
   "name": "python3"
  },
  "language_info": {
   "codemirror_mode": {
    "name": "ipython",
    "version": 3
   },
   "file_extension": ".py",
   "mimetype": "text/x-python",
   "name": "python",
   "nbconvert_exporter": "python",
   "pygments_lexer": "ipython3",
   "version": "3.7.12"
  },
  "papermill": {
   "default_parameters": {},
   "duration": 12.745579,
   "end_time": "2023-03-30T18:53:57.689952",
   "environment_variables": {},
   "exception": null,
   "input_path": "__notebook__.ipynb",
   "output_path": "__notebook__.ipynb",
   "parameters": {},
   "start_time": "2023-03-30T18:53:44.944373",
   "version": "2.4.0"
  }
 },
 "nbformat": 4,
 "nbformat_minor": 5
}
