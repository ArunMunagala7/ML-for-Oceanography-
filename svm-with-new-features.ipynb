{
 "cells": [
  {
   "cell_type": "code",
   "execution_count": 1,
   "id": "6bec73ca",
   "metadata": {
    "_cell_guid": "b1076dfc-b9ad-4769-8c92-a6c4dae69d19",
    "_uuid": "8f2839f25d086af736a60e9eeb907d3b93b6e0e5",
    "execution": {
     "iopub.execute_input": "2023-03-28T12:21:46.470310Z",
     "iopub.status.busy": "2023-03-28T12:21:46.469687Z",
     "iopub.status.idle": "2023-03-28T12:21:46.491678Z",
     "shell.execute_reply": "2023-03-28T12:21:46.489861Z"
    },
    "papermill": {
     "duration": 0.034483,
     "end_time": "2023-03-28T12:21:46.495725",
     "exception": false,
     "start_time": "2023-03-28T12:21:46.461242",
     "status": "completed"
    },
    "tags": []
   },
   "outputs": [
    {
     "name": "stdout",
     "output_type": "stream",
     "text": [
      "/kaggle/input/ml-for-oceanography/sample2.csv\n",
      "/kaggle/input/ml-for-oceanography/test1.csv\n",
      "/kaggle/input/ml-for-oceanography/train.csv\n"
     ]
    }
   ],
   "source": [
    "# This Python 3 environment comes with many helpful analytics libraries installed\n",
    "# It is defined by the kaggle/python Docker image: https://github.com/kaggle/docker-python\n",
    "# For example, here's several helpful packages to load\n",
    "\n",
    "import numpy as np # linear algebra\n",
    "import pandas as pd # data processing, CSV file I/O (e.g. pd.read_csv)\n",
    "\n",
    "# Input data files are available in the read-only \"../input/\" directory\n",
    "# For example, running this (by clicking run or pressing Shift+Enter) will list all files under the input directory\n",
    "\n",
    "import os\n",
    "for dirname, _, filenames in os.walk('/kaggle/input'):\n",
    "    for filename in filenames:\n",
    "        print(os.path.join(dirname, filename))\n",
    "\n",
    "# You can write up to 20GB to the current directory (/kaggle/working/) that gets preserved as output when you create a version using \"Save & Run All\" \n",
    "# You can also write temporary files to /kaggle/temp/, but they won't be saved outside of the current session"
   ]
  },
  {
   "cell_type": "code",
   "execution_count": 2,
   "id": "54adae07",
   "metadata": {
    "execution": {
     "iopub.execute_input": "2023-03-28T12:21:46.516113Z",
     "iopub.status.busy": "2023-03-28T12:21:46.515309Z",
     "iopub.status.idle": "2023-03-28T12:21:46.592609Z",
     "shell.execute_reply": "2023-03-28T12:21:46.591416Z"
    },
    "papermill": {
     "duration": 0.090304,
     "end_time": "2023-03-28T12:21:46.595508",
     "exception": false,
     "start_time": "2023-03-28T12:21:46.505204",
     "status": "completed"
    },
    "tags": []
   },
   "outputs": [
    {
     "data": {
      "text/html": [
       "<div>\n",
       "<style scoped>\n",
       "    .dataframe tbody tr th:only-of-type {\n",
       "        vertical-align: middle;\n",
       "    }\n",
       "\n",
       "    .dataframe tbody tr th {\n",
       "        vertical-align: top;\n",
       "    }\n",
       "\n",
       "    .dataframe thead th {\n",
       "        text-align: right;\n",
       "    }\n",
       "</style>\n",
       "<table border=\"1\" class=\"dataframe\">\n",
       "  <thead>\n",
       "    <tr style=\"text-align: right;\">\n",
       "      <th></th>\n",
       "      <th>ID</th>\n",
       "      <th>#YY</th>\n",
       "      <th>MM</th>\n",
       "      <th>DD</th>\n",
       "      <th>hh</th>\n",
       "      <th>mm</th>\n",
       "      <th>WDIR(degT)</th>\n",
       "      <th>WSPD(m/s)</th>\n",
       "      <th>GST(m/s)</th>\n",
       "      <th>DPD(sec)</th>\n",
       "      <th>APD(sec)</th>\n",
       "      <th>MWD(degT)</th>\n",
       "      <th>PRES(hPa)</th>\n",
       "      <th>ATMP(degC)</th>\n",
       "      <th>WTMP(degC)</th>\n",
       "      <th>DEWP(degC)</th>\n",
       "      <th>WVHT(m)</th>\n",
       "    </tr>\n",
       "  </thead>\n",
       "  <tbody>\n",
       "    <tr>\n",
       "      <th>0</th>\n",
       "      <td>2017424150</td>\n",
       "      <td>2017</td>\n",
       "      <td>4</td>\n",
       "      <td>24</td>\n",
       "      <td>1</td>\n",
       "      <td>50</td>\n",
       "      <td>23</td>\n",
       "      <td>3.0</td>\n",
       "      <td>3.6</td>\n",
       "      <td>4.17</td>\n",
       "      <td>3.33</td>\n",
       "      <td>349</td>\n",
       "      <td>1019.1</td>\n",
       "      <td>4.7</td>\n",
       "      <td>5.1</td>\n",
       "      <td>4.2</td>\n",
       "      <td>0.39</td>\n",
       "    </tr>\n",
       "    <tr>\n",
       "      <th>1</th>\n",
       "      <td>2017424250</td>\n",
       "      <td>2017</td>\n",
       "      <td>4</td>\n",
       "      <td>24</td>\n",
       "      <td>2</td>\n",
       "      <td>50</td>\n",
       "      <td>30</td>\n",
       "      <td>2.9</td>\n",
       "      <td>3.3</td>\n",
       "      <td>5.26</td>\n",
       "      <td>4.21</td>\n",
       "      <td>358</td>\n",
       "      <td>1018.8</td>\n",
       "      <td>4.6</td>\n",
       "      <td>4.8</td>\n",
       "      <td>4.1</td>\n",
       "      <td>0.65</td>\n",
       "    </tr>\n",
       "    <tr>\n",
       "      <th>2</th>\n",
       "      <td>2017424350</td>\n",
       "      <td>2017</td>\n",
       "      <td>4</td>\n",
       "      <td>24</td>\n",
       "      <td>3</td>\n",
       "      <td>50</td>\n",
       "      <td>360</td>\n",
       "      <td>2.2</td>\n",
       "      <td>2.5</td>\n",
       "      <td>5.88</td>\n",
       "      <td>4.79</td>\n",
       "      <td>11</td>\n",
       "      <td>1018.3</td>\n",
       "      <td>4.6</td>\n",
       "      <td>4.7</td>\n",
       "      <td>4.2</td>\n",
       "      <td>0.90</td>\n",
       "    </tr>\n",
       "    <tr>\n",
       "      <th>3</th>\n",
       "      <td>2017424450</td>\n",
       "      <td>2017</td>\n",
       "      <td>4</td>\n",
       "      <td>24</td>\n",
       "      <td>4</td>\n",
       "      <td>50</td>\n",
       "      <td>355</td>\n",
       "      <td>2.5</td>\n",
       "      <td>3.1</td>\n",
       "      <td>5.88</td>\n",
       "      <td>4.95</td>\n",
       "      <td>23</td>\n",
       "      <td>1018.1</td>\n",
       "      <td>4.6</td>\n",
       "      <td>4.6</td>\n",
       "      <td>4.2</td>\n",
       "      <td>0.91</td>\n",
       "    </tr>\n",
       "    <tr>\n",
       "      <th>4</th>\n",
       "      <td>2017424550</td>\n",
       "      <td>2017</td>\n",
       "      <td>4</td>\n",
       "      <td>24</td>\n",
       "      <td>5</td>\n",
       "      <td>50</td>\n",
       "      <td>355</td>\n",
       "      <td>3.5</td>\n",
       "      <td>4.5</td>\n",
       "      <td>6.25</td>\n",
       "      <td>4.98</td>\n",
       "      <td>26</td>\n",
       "      <td>1018.3</td>\n",
       "      <td>4.5</td>\n",
       "      <td>4.6</td>\n",
       "      <td>4.0</td>\n",
       "      <td>0.88</td>\n",
       "    </tr>\n",
       "  </tbody>\n",
       "</table>\n",
       "</div>"
      ],
      "text/plain": [
       "           ID   #YY  MM  DD  hh  mm  WDIR(degT)  WSPD(m/s)  GST(m/s)  \\\n",
       "0  2017424150  2017   4  24   1  50          23        3.0       3.6   \n",
       "1  2017424250  2017   4  24   2  50          30        2.9       3.3   \n",
       "2  2017424350  2017   4  24   3  50         360        2.2       2.5   \n",
       "3  2017424450  2017   4  24   4  50         355        2.5       3.1   \n",
       "4  2017424550  2017   4  24   5  50         355        3.5       4.5   \n",
       "\n",
       "   DPD(sec)  APD(sec)  MWD(degT)  PRES(hPa)  ATMP(degC)  WTMP(degC)  \\\n",
       "0      4.17      3.33        349     1019.1         4.7         5.1   \n",
       "1      5.26      4.21        358     1018.8         4.6         4.8   \n",
       "2      5.88      4.79         11     1018.3         4.6         4.7   \n",
       "3      5.88      4.95         23     1018.1         4.6         4.6   \n",
       "4      6.25      4.98         26     1018.3         4.5         4.6   \n",
       "\n",
       "   DEWP(degC)  WVHT(m)  \n",
       "0         4.2     0.39  \n",
       "1         4.1     0.65  \n",
       "2         4.2     0.90  \n",
       "3         4.2     0.91  \n",
       "4         4.0     0.88  "
      ]
     },
     "execution_count": 2,
     "metadata": {},
     "output_type": "execute_result"
    }
   ],
   "source": [
    "train_data=pd.read_csv('/kaggle/input/ml-for-oceanography/train.csv')\n",
    "test_data=pd.read_csv('/kaggle/input/ml-for-oceanography/test1.csv')\n",
    "train_data.head()"
   ]
  },
  {
   "cell_type": "markdown",
   "id": "9dbfe189",
   "metadata": {
    "papermill": {
     "duration": 0.005222,
     "end_time": "2023-03-28T12:21:46.606315",
     "exception": false,
     "start_time": "2023-03-28T12:21:46.601093",
     "status": "completed"
    },
    "tags": []
   },
   "source": [
    "creating some features"
   ]
  },
  {
   "cell_type": "code",
   "execution_count": 3,
   "id": "7c97038d",
   "metadata": {
    "execution": {
     "iopub.execute_input": "2023-03-28T12:21:46.619609Z",
     "iopub.status.busy": "2023-03-28T12:21:46.619192Z",
     "iopub.status.idle": "2023-03-28T12:21:46.625226Z",
     "shell.execute_reply": "2023-03-28T12:21:46.623435Z"
    },
    "papermill": {
     "duration": 0.016126,
     "end_time": "2023-03-28T12:21:46.628234",
     "exception": false,
     "start_time": "2023-03-28T12:21:46.612108",
     "status": "completed"
    },
    "tags": []
   },
   "outputs": [],
   "source": [
    "# train_data['WPOW']= 0.5 * 1025 * 9.81 * train_data['WVHT(m)'] * train_data['WVHT(m)'] * train_data['DPD(sec)']"
   ]
  },
  {
   "cell_type": "code",
   "execution_count": 4,
   "id": "79d507d6",
   "metadata": {
    "execution": {
     "iopub.execute_input": "2023-03-28T12:21:46.642155Z",
     "iopub.status.busy": "2023-03-28T12:21:46.641258Z",
     "iopub.status.idle": "2023-03-28T12:21:46.664711Z",
     "shell.execute_reply": "2023-03-28T12:21:46.663255Z"
    },
    "papermill": {
     "duration": 0.034128,
     "end_time": "2023-03-28T12:21:46.668143",
     "exception": false,
     "start_time": "2023-03-28T12:21:46.634015",
     "status": "completed"
    },
    "tags": []
   },
   "outputs": [
    {
     "data": {
      "text/html": [
       "<div>\n",
       "<style scoped>\n",
       "    .dataframe tbody tr th:only-of-type {\n",
       "        vertical-align: middle;\n",
       "    }\n",
       "\n",
       "    .dataframe tbody tr th {\n",
       "        vertical-align: top;\n",
       "    }\n",
       "\n",
       "    .dataframe thead th {\n",
       "        text-align: right;\n",
       "    }\n",
       "</style>\n",
       "<table border=\"1\" class=\"dataframe\">\n",
       "  <thead>\n",
       "    <tr style=\"text-align: right;\">\n",
       "      <th></th>\n",
       "      <th>ID</th>\n",
       "      <th>#YY</th>\n",
       "      <th>MM</th>\n",
       "      <th>DD</th>\n",
       "      <th>hh</th>\n",
       "      <th>mm</th>\n",
       "      <th>WDIR(degT)</th>\n",
       "      <th>WSPD(m/s)</th>\n",
       "      <th>GST(m/s)</th>\n",
       "      <th>DPD(sec)</th>\n",
       "      <th>APD(sec)</th>\n",
       "      <th>MWD(degT)</th>\n",
       "      <th>PRES(hPa)</th>\n",
       "      <th>ATMP(degC)</th>\n",
       "      <th>WTMP(degC)</th>\n",
       "      <th>DEWP(degC)</th>\n",
       "      <th>WVHT(m)</th>\n",
       "    </tr>\n",
       "  </thead>\n",
       "  <tbody>\n",
       "    <tr>\n",
       "      <th>0</th>\n",
       "      <td>2017424150</td>\n",
       "      <td>2017</td>\n",
       "      <td>4</td>\n",
       "      <td>24</td>\n",
       "      <td>1</td>\n",
       "      <td>50</td>\n",
       "      <td>23</td>\n",
       "      <td>3.0</td>\n",
       "      <td>3.6</td>\n",
       "      <td>4.17</td>\n",
       "      <td>3.33</td>\n",
       "      <td>349</td>\n",
       "      <td>1019.1</td>\n",
       "      <td>4.7</td>\n",
       "      <td>5.1</td>\n",
       "      <td>4.2</td>\n",
       "      <td>0.39</td>\n",
       "    </tr>\n",
       "    <tr>\n",
       "      <th>1</th>\n",
       "      <td>2017424250</td>\n",
       "      <td>2017</td>\n",
       "      <td>4</td>\n",
       "      <td>24</td>\n",
       "      <td>2</td>\n",
       "      <td>50</td>\n",
       "      <td>30</td>\n",
       "      <td>2.9</td>\n",
       "      <td>3.3</td>\n",
       "      <td>5.26</td>\n",
       "      <td>4.21</td>\n",
       "      <td>358</td>\n",
       "      <td>1018.8</td>\n",
       "      <td>4.6</td>\n",
       "      <td>4.8</td>\n",
       "      <td>4.1</td>\n",
       "      <td>0.65</td>\n",
       "    </tr>\n",
       "    <tr>\n",
       "      <th>2</th>\n",
       "      <td>2017424350</td>\n",
       "      <td>2017</td>\n",
       "      <td>4</td>\n",
       "      <td>24</td>\n",
       "      <td>3</td>\n",
       "      <td>50</td>\n",
       "      <td>360</td>\n",
       "      <td>2.2</td>\n",
       "      <td>2.5</td>\n",
       "      <td>5.88</td>\n",
       "      <td>4.79</td>\n",
       "      <td>11</td>\n",
       "      <td>1018.3</td>\n",
       "      <td>4.6</td>\n",
       "      <td>4.7</td>\n",
       "      <td>4.2</td>\n",
       "      <td>0.90</td>\n",
       "    </tr>\n",
       "    <tr>\n",
       "      <th>3</th>\n",
       "      <td>2017424450</td>\n",
       "      <td>2017</td>\n",
       "      <td>4</td>\n",
       "      <td>24</td>\n",
       "      <td>4</td>\n",
       "      <td>50</td>\n",
       "      <td>355</td>\n",
       "      <td>2.5</td>\n",
       "      <td>3.1</td>\n",
       "      <td>5.88</td>\n",
       "      <td>4.95</td>\n",
       "      <td>23</td>\n",
       "      <td>1018.1</td>\n",
       "      <td>4.6</td>\n",
       "      <td>4.6</td>\n",
       "      <td>4.2</td>\n",
       "      <td>0.91</td>\n",
       "    </tr>\n",
       "    <tr>\n",
       "      <th>4</th>\n",
       "      <td>2017424550</td>\n",
       "      <td>2017</td>\n",
       "      <td>4</td>\n",
       "      <td>24</td>\n",
       "      <td>5</td>\n",
       "      <td>50</td>\n",
       "      <td>355</td>\n",
       "      <td>3.5</td>\n",
       "      <td>4.5</td>\n",
       "      <td>6.25</td>\n",
       "      <td>4.98</td>\n",
       "      <td>26</td>\n",
       "      <td>1018.3</td>\n",
       "      <td>4.5</td>\n",
       "      <td>4.6</td>\n",
       "      <td>4.0</td>\n",
       "      <td>0.88</td>\n",
       "    </tr>\n",
       "  </tbody>\n",
       "</table>\n",
       "</div>"
      ],
      "text/plain": [
       "           ID   #YY  MM  DD  hh  mm  WDIR(degT)  WSPD(m/s)  GST(m/s)  \\\n",
       "0  2017424150  2017   4  24   1  50          23        3.0       3.6   \n",
       "1  2017424250  2017   4  24   2  50          30        2.9       3.3   \n",
       "2  2017424350  2017   4  24   3  50         360        2.2       2.5   \n",
       "3  2017424450  2017   4  24   4  50         355        2.5       3.1   \n",
       "4  2017424550  2017   4  24   5  50         355        3.5       4.5   \n",
       "\n",
       "   DPD(sec)  APD(sec)  MWD(degT)  PRES(hPa)  ATMP(degC)  WTMP(degC)  \\\n",
       "0      4.17      3.33        349     1019.1         4.7         5.1   \n",
       "1      5.26      4.21        358     1018.8         4.6         4.8   \n",
       "2      5.88      4.79         11     1018.3         4.6         4.7   \n",
       "3      5.88      4.95         23     1018.1         4.6         4.6   \n",
       "4      6.25      4.98         26     1018.3         4.5         4.6   \n",
       "\n",
       "   DEWP(degC)  WVHT(m)  \n",
       "0         4.2     0.39  \n",
       "1         4.1     0.65  \n",
       "2         4.2     0.90  \n",
       "3         4.2     0.91  \n",
       "4         4.0     0.88  "
      ]
     },
     "execution_count": 4,
     "metadata": {},
     "output_type": "execute_result"
    }
   ],
   "source": [
    "train_data.head()"
   ]
  },
  {
   "cell_type": "code",
   "execution_count": 5,
   "id": "f3f4de9b",
   "metadata": {
    "execution": {
     "iopub.execute_input": "2023-03-28T12:21:46.683180Z",
     "iopub.status.busy": "2023-03-28T12:21:46.682516Z",
     "iopub.status.idle": "2023-03-28T12:21:46.687822Z",
     "shell.execute_reply": "2023-03-28T12:21:46.686913Z"
    },
    "papermill": {
     "duration": 0.015476,
     "end_time": "2023-03-28T12:21:46.690425",
     "exception": false,
     "start_time": "2023-03-28T12:21:46.674949",
     "status": "completed"
    },
    "tags": []
   },
   "outputs": [],
   "source": [
    "df=train_data.copy()"
   ]
  },
  {
   "cell_type": "markdown",
   "id": "d522be42",
   "metadata": {
    "papermill": {
     "duration": 0.005463,
     "end_time": "2023-03-28T12:21:46.701834",
     "exception": false,
     "start_time": "2023-03-28T12:21:46.696371",
     "status": "completed"
    },
    "tags": []
   },
   "source": [
    "calculating the sine and cosine: Instead of using the raw wind direction feature, it may be helpful to convert it into its sine and cosine components to capture any directional patterns in the wind that affect wave height."
   ]
  },
  {
   "cell_type": "code",
   "execution_count": 6,
   "id": "48ee82e3",
   "metadata": {
    "execution": {
     "iopub.execute_input": "2023-03-28T12:21:46.715972Z",
     "iopub.status.busy": "2023-03-28T12:21:46.714925Z",
     "iopub.status.idle": "2023-03-28T12:21:46.737833Z",
     "shell.execute_reply": "2023-03-28T12:21:46.736400Z"
    },
    "papermill": {
     "duration": 0.033064,
     "end_time": "2023-03-28T12:21:46.740645",
     "exception": false,
     "start_time": "2023-03-28T12:21:46.707581",
     "status": "completed"
    },
    "tags": []
   },
   "outputs": [],
   "source": [
    "# Calculate the sine and cosine of wind direction\n",
    "df['WDIR_sin'] = np.sin(np.radians(df['WDIR(degT)']))\n",
    "df['WDIR_cos'] = np.cos(np.radians(df['WDIR(degT)']))\n",
    "#wind speed cubed\n",
    "df['WSCB']=np.power(df['WSPD(m/s)'],3)\n",
    "#dominant wind power squared\n",
    "df['DPD2']=np.power(df['DPD(sec)'],2)\n",
    "#temperature differene between air and water\n",
    "df['TDIF']=df['ATMP(degC)']-df['WTMP(degC)']\n",
    "test_data['WDIR_sin'] = np.sin(np.radians(test_data['WDIR(degT)']))\n",
    "test_data['WDIR_cos'] = np.cos(np.radians(test_data['WDIR(degT)']))\n",
    "test_data['WSCB']=np.power(test_data['WSPD(m/s)'],3)\n",
    "test_data['DPD2']=np.power(test_data['DPD(sec)'],2)\n",
    "test_data['TDIF']=test_data['ATMP(degC)']-test_data['WTMP(degC)']"
   ]
  },
  {
   "cell_type": "code",
   "execution_count": 7,
   "id": "075f4699",
   "metadata": {
    "execution": {
     "iopub.execute_input": "2023-03-28T12:21:46.754168Z",
     "iopub.status.busy": "2023-03-28T12:21:46.753739Z",
     "iopub.status.idle": "2023-03-28T12:21:46.785270Z",
     "shell.execute_reply": "2023-03-28T12:21:46.783929Z"
    },
    "papermill": {
     "duration": 0.041627,
     "end_time": "2023-03-28T12:21:46.788147",
     "exception": false,
     "start_time": "2023-03-28T12:21:46.746520",
     "status": "completed"
    },
    "tags": []
   },
   "outputs": [
    {
     "data": {
      "text/html": [
       "<div>\n",
       "<style scoped>\n",
       "    .dataframe tbody tr th:only-of-type {\n",
       "        vertical-align: middle;\n",
       "    }\n",
       "\n",
       "    .dataframe tbody tr th {\n",
       "        vertical-align: top;\n",
       "    }\n",
       "\n",
       "    .dataframe thead th {\n",
       "        text-align: right;\n",
       "    }\n",
       "</style>\n",
       "<table border=\"1\" class=\"dataframe\">\n",
       "  <thead>\n",
       "    <tr style=\"text-align: right;\">\n",
       "      <th></th>\n",
       "      <th>ID</th>\n",
       "      <th>#YY</th>\n",
       "      <th>MM</th>\n",
       "      <th>DD</th>\n",
       "      <th>hh</th>\n",
       "      <th>mm</th>\n",
       "      <th>WDIR(degT)</th>\n",
       "      <th>WSPD(m/s)</th>\n",
       "      <th>GST(m/s)</th>\n",
       "      <th>DPD(sec)</th>\n",
       "      <th>...</th>\n",
       "      <th>PRES(hPa)</th>\n",
       "      <th>ATMP(degC)</th>\n",
       "      <th>WTMP(degC)</th>\n",
       "      <th>DEWP(degC)</th>\n",
       "      <th>WVHT(m)</th>\n",
       "      <th>WDIR_sin</th>\n",
       "      <th>WDIR_cos</th>\n",
       "      <th>WSCB</th>\n",
       "      <th>DPD2</th>\n",
       "      <th>TDIF</th>\n",
       "    </tr>\n",
       "  </thead>\n",
       "  <tbody>\n",
       "    <tr>\n",
       "      <th>0</th>\n",
       "      <td>2017424150</td>\n",
       "      <td>2017</td>\n",
       "      <td>4</td>\n",
       "      <td>24</td>\n",
       "      <td>1</td>\n",
       "      <td>50</td>\n",
       "      <td>23</td>\n",
       "      <td>3.0</td>\n",
       "      <td>3.6</td>\n",
       "      <td>4.17</td>\n",
       "      <td>...</td>\n",
       "      <td>1019.1</td>\n",
       "      <td>4.7</td>\n",
       "      <td>5.1</td>\n",
       "      <td>4.2</td>\n",
       "      <td>0.39</td>\n",
       "      <td>3.907311e-01</td>\n",
       "      <td>0.920505</td>\n",
       "      <td>27.000</td>\n",
       "      <td>17.3889</td>\n",
       "      <td>-0.4</td>\n",
       "    </tr>\n",
       "    <tr>\n",
       "      <th>1</th>\n",
       "      <td>2017424250</td>\n",
       "      <td>2017</td>\n",
       "      <td>4</td>\n",
       "      <td>24</td>\n",
       "      <td>2</td>\n",
       "      <td>50</td>\n",
       "      <td>30</td>\n",
       "      <td>2.9</td>\n",
       "      <td>3.3</td>\n",
       "      <td>5.26</td>\n",
       "      <td>...</td>\n",
       "      <td>1018.8</td>\n",
       "      <td>4.6</td>\n",
       "      <td>4.8</td>\n",
       "      <td>4.1</td>\n",
       "      <td>0.65</td>\n",
       "      <td>5.000000e-01</td>\n",
       "      <td>0.866025</td>\n",
       "      <td>24.389</td>\n",
       "      <td>27.6676</td>\n",
       "      <td>-0.2</td>\n",
       "    </tr>\n",
       "    <tr>\n",
       "      <th>2</th>\n",
       "      <td>2017424350</td>\n",
       "      <td>2017</td>\n",
       "      <td>4</td>\n",
       "      <td>24</td>\n",
       "      <td>3</td>\n",
       "      <td>50</td>\n",
       "      <td>360</td>\n",
       "      <td>2.2</td>\n",
       "      <td>2.5</td>\n",
       "      <td>5.88</td>\n",
       "      <td>...</td>\n",
       "      <td>1018.3</td>\n",
       "      <td>4.6</td>\n",
       "      <td>4.7</td>\n",
       "      <td>4.2</td>\n",
       "      <td>0.90</td>\n",
       "      <td>-2.449294e-16</td>\n",
       "      <td>1.000000</td>\n",
       "      <td>10.648</td>\n",
       "      <td>34.5744</td>\n",
       "      <td>-0.1</td>\n",
       "    </tr>\n",
       "    <tr>\n",
       "      <th>3</th>\n",
       "      <td>2017424450</td>\n",
       "      <td>2017</td>\n",
       "      <td>4</td>\n",
       "      <td>24</td>\n",
       "      <td>4</td>\n",
       "      <td>50</td>\n",
       "      <td>355</td>\n",
       "      <td>2.5</td>\n",
       "      <td>3.1</td>\n",
       "      <td>5.88</td>\n",
       "      <td>...</td>\n",
       "      <td>1018.1</td>\n",
       "      <td>4.6</td>\n",
       "      <td>4.6</td>\n",
       "      <td>4.2</td>\n",
       "      <td>0.91</td>\n",
       "      <td>-8.715574e-02</td>\n",
       "      <td>0.996195</td>\n",
       "      <td>15.625</td>\n",
       "      <td>34.5744</td>\n",
       "      <td>0.0</td>\n",
       "    </tr>\n",
       "    <tr>\n",
       "      <th>4</th>\n",
       "      <td>2017424550</td>\n",
       "      <td>2017</td>\n",
       "      <td>4</td>\n",
       "      <td>24</td>\n",
       "      <td>5</td>\n",
       "      <td>50</td>\n",
       "      <td>355</td>\n",
       "      <td>3.5</td>\n",
       "      <td>4.5</td>\n",
       "      <td>6.25</td>\n",
       "      <td>...</td>\n",
       "      <td>1018.3</td>\n",
       "      <td>4.5</td>\n",
       "      <td>4.6</td>\n",
       "      <td>4.0</td>\n",
       "      <td>0.88</td>\n",
       "      <td>-8.715574e-02</td>\n",
       "      <td>0.996195</td>\n",
       "      <td>42.875</td>\n",
       "      <td>39.0625</td>\n",
       "      <td>-0.1</td>\n",
       "    </tr>\n",
       "  </tbody>\n",
       "</table>\n",
       "<p>5 rows × 22 columns</p>\n",
       "</div>"
      ],
      "text/plain": [
       "           ID   #YY  MM  DD  hh  mm  WDIR(degT)  WSPD(m/s)  GST(m/s)  \\\n",
       "0  2017424150  2017   4  24   1  50          23        3.0       3.6   \n",
       "1  2017424250  2017   4  24   2  50          30        2.9       3.3   \n",
       "2  2017424350  2017   4  24   3  50         360        2.2       2.5   \n",
       "3  2017424450  2017   4  24   4  50         355        2.5       3.1   \n",
       "4  2017424550  2017   4  24   5  50         355        3.5       4.5   \n",
       "\n",
       "   DPD(sec)  ...  PRES(hPa)  ATMP(degC)  WTMP(degC)  DEWP(degC)  WVHT(m)  \\\n",
       "0      4.17  ...     1019.1         4.7         5.1         4.2     0.39   \n",
       "1      5.26  ...     1018.8         4.6         4.8         4.1     0.65   \n",
       "2      5.88  ...     1018.3         4.6         4.7         4.2     0.90   \n",
       "3      5.88  ...     1018.1         4.6         4.6         4.2     0.91   \n",
       "4      6.25  ...     1018.3         4.5         4.6         4.0     0.88   \n",
       "\n",
       "       WDIR_sin  WDIR_cos    WSCB     DPD2  TDIF  \n",
       "0  3.907311e-01  0.920505  27.000  17.3889  -0.4  \n",
       "1  5.000000e-01  0.866025  24.389  27.6676  -0.2  \n",
       "2 -2.449294e-16  1.000000  10.648  34.5744  -0.1  \n",
       "3 -8.715574e-02  0.996195  15.625  34.5744   0.0  \n",
       "4 -8.715574e-02  0.996195  42.875  39.0625  -0.1  \n",
       "\n",
       "[5 rows x 22 columns]"
      ]
     },
     "execution_count": 7,
     "metadata": {},
     "output_type": "execute_result"
    }
   ],
   "source": [
    "df.head()"
   ]
  },
  {
   "cell_type": "code",
   "execution_count": 8,
   "id": "f902630a",
   "metadata": {
    "execution": {
     "iopub.execute_input": "2023-03-28T12:21:46.803478Z",
     "iopub.status.busy": "2023-03-28T12:21:46.802734Z",
     "iopub.status.idle": "2023-03-28T12:21:46.809999Z",
     "shell.execute_reply": "2023-03-28T12:21:46.808947Z"
    },
    "papermill": {
     "duration": 0.018047,
     "end_time": "2023-03-28T12:21:46.812625",
     "exception": false,
     "start_time": "2023-03-28T12:21:46.794578",
     "status": "completed"
    },
    "tags": []
   },
   "outputs": [
    {
     "data": {
      "text/plain": [
       "(3886, 22)"
      ]
     },
     "execution_count": 8,
     "metadata": {},
     "output_type": "execute_result"
    }
   ],
   "source": [
    "df.shape"
   ]
  },
  {
   "cell_type": "code",
   "execution_count": 9,
   "id": "7550490d",
   "metadata": {
    "execution": {
     "iopub.execute_input": "2023-03-28T12:21:46.828733Z",
     "iopub.status.busy": "2023-03-28T12:21:46.827549Z",
     "iopub.status.idle": "2023-03-28T12:21:46.834516Z",
     "shell.execute_reply": "2023-03-28T12:21:46.833578Z"
    },
    "papermill": {
     "duration": 0.018023,
     "end_time": "2023-03-28T12:21:46.837093",
     "exception": false,
     "start_time": "2023-03-28T12:21:46.819070",
     "status": "completed"
    },
    "tags": []
   },
   "outputs": [
    {
     "data": {
      "text/plain": [
       "Index(['ID', '#YY', 'MM', 'DD', 'hh', 'mm', 'WDIR(degT)', 'WSPD(m/s)',\n",
       "       'GST(m/s)', 'DPD(sec)', 'APD(sec)', 'MWD(degT)', 'PRES(hPa)',\n",
       "       'ATMP(degC)', 'WTMP(degC)', 'DEWP(degC)', 'WVHT(m)', 'WDIR_sin',\n",
       "       'WDIR_cos', 'WSCB', 'DPD2', 'TDIF'],\n",
       "      dtype='object')"
      ]
     },
     "execution_count": 9,
     "metadata": {},
     "output_type": "execute_result"
    }
   ],
   "source": [
    "df.columns"
   ]
  },
  {
   "cell_type": "code",
   "execution_count": 10,
   "id": "87f7cd1d",
   "metadata": {
    "execution": {
     "iopub.execute_input": "2023-03-28T12:21:46.855625Z",
     "iopub.status.busy": "2023-03-28T12:21:46.854810Z",
     "iopub.status.idle": "2023-03-28T12:21:47.795371Z",
     "shell.execute_reply": "2023-03-28T12:21:47.794118Z"
    },
    "papermill": {
     "duration": 0.952375,
     "end_time": "2023-03-28T12:21:47.798336",
     "exception": false,
     "start_time": "2023-03-28T12:21:46.845961",
     "status": "completed"
    },
    "tags": []
   },
   "outputs": [],
   "source": [
    "from sklearn.preprocessing import StandardScaler\n",
    "sc = StandardScaler()\n",
    "y=df['WVHT(m)']\n",
    "df=df.drop(columns=['WVHT(m)'])\n",
    "X = df.iloc[:, [2, 4, *range(6, df.shape[1])]]\n",
    "X=sc.fit_transform(X)"
   ]
  },
  {
   "cell_type": "markdown",
   "id": "cfe2ac40",
   "metadata": {
    "papermill": {
     "duration": 0.00606,
     "end_time": "2023-03-28T12:21:47.810878",
     "exception": false,
     "start_time": "2023-03-28T12:21:47.804818",
     "status": "completed"
    },
    "tags": []
   },
   "source": [
    "after all this crap time to model"
   ]
  },
  {
   "cell_type": "code",
   "execution_count": 11,
   "id": "053a04d4",
   "metadata": {
    "_kg_hide-output": true,
    "execution": {
     "iopub.execute_input": "2023-03-28T12:21:47.826939Z",
     "iopub.status.busy": "2023-03-28T12:21:47.826437Z",
     "iopub.status.idle": "2023-03-28T12:21:48.281616Z",
     "shell.execute_reply": "2023-03-28T12:21:48.280325Z"
    },
    "papermill": {
     "duration": 0.46614,
     "end_time": "2023-03-28T12:21:48.284511",
     "exception": false,
     "start_time": "2023-03-28T12:21:47.818371",
     "status": "completed"
    },
    "scrolled": true,
    "tags": []
   },
   "outputs": [
    {
     "data": {
      "text/plain": [
       "SVR()"
      ]
     },
     "execution_count": 11,
     "metadata": {},
     "output_type": "execute_result"
    }
   ],
   "source": [
    "from sklearn.svm import SVR\n",
    "model=SVR()\n",
    "model.fit(X,y)"
   ]
  },
  {
   "cell_type": "code",
   "execution_count": 12,
   "id": "d737e81d",
   "metadata": {
    "execution": {
     "iopub.execute_input": "2023-03-28T12:21:48.299632Z",
     "iopub.status.busy": "2023-03-28T12:21:48.299180Z",
     "iopub.status.idle": "2023-03-28T12:21:48.309456Z",
     "shell.execute_reply": "2023-03-28T12:21:48.308022Z"
    },
    "papermill": {
     "duration": 0.021024,
     "end_time": "2023-03-28T12:21:48.312112",
     "exception": false,
     "start_time": "2023-03-28T12:21:48.291088",
     "status": "completed"
    },
    "tags": []
   },
   "outputs": [],
   "source": [
    "X_test=test_data.iloc[:, [2, 4, *range(6, df.shape[1])]]\n",
    "X_test=sc.transform(X_test)\n",
    "#X_test.head()"
   ]
  },
  {
   "cell_type": "markdown",
   "id": "71f18d5a",
   "metadata": {
    "papermill": {
     "duration": 0.006126,
     "end_time": "2023-03-28T12:21:48.324942",
     "exception": false,
     "start_time": "2023-03-28T12:21:48.318816",
     "status": "completed"
    },
    "tags": []
   },
   "source": [
    "making predictions"
   ]
  },
  {
   "cell_type": "code",
   "execution_count": 13,
   "id": "b7adc994",
   "metadata": {
    "execution": {
     "iopub.execute_input": "2023-03-28T12:21:48.340284Z",
     "iopub.status.busy": "2023-03-28T12:21:48.339882Z",
     "iopub.status.idle": "2023-03-28T12:21:48.417251Z",
     "shell.execute_reply": "2023-03-28T12:21:48.415972Z"
    },
    "papermill": {
     "duration": 0.088481,
     "end_time": "2023-03-28T12:21:48.420192",
     "exception": false,
     "start_time": "2023-03-28T12:21:48.331711",
     "status": "completed"
    },
    "tags": []
   },
   "outputs": [],
   "source": [
    "pred=model.predict(X_test)"
   ]
  },
  {
   "cell_type": "code",
   "execution_count": 14,
   "id": "61b44fc1",
   "metadata": {
    "execution": {
     "iopub.execute_input": "2023-03-28T12:21:48.435266Z",
     "iopub.status.busy": "2023-03-28T12:21:48.434788Z",
     "iopub.status.idle": "2023-03-28T12:21:48.451477Z",
     "shell.execute_reply": "2023-03-28T12:21:48.450321Z"
    },
    "papermill": {
     "duration": 0.027925,
     "end_time": "2023-03-28T12:21:48.454581",
     "exception": false,
     "start_time": "2023-03-28T12:21:48.426656",
     "status": "completed"
    },
    "tags": []
   },
   "outputs": [
    {
     "name": "stdout",
     "output_type": "stream",
     "text": [
      "Your submission was successful\n"
     ]
    }
   ],
   "source": [
    "output=pd.DataFrame({'Id':test_data.ID,'WVHT(m)':pred})\n",
    "output.to_csv('submission.csv',index=False)\n",
    "print(\"Your submission was successful\")"
   ]
  },
  {
   "cell_type": "code",
   "execution_count": 15,
   "id": "cb9f1c8b",
   "metadata": {
    "execution": {
     "iopub.execute_input": "2023-03-28T12:21:48.470287Z",
     "iopub.status.busy": "2023-03-28T12:21:48.469816Z",
     "iopub.status.idle": "2023-03-28T12:21:48.481557Z",
     "shell.execute_reply": "2023-03-28T12:21:48.480263Z"
    },
    "papermill": {
     "duration": 0.022965,
     "end_time": "2023-03-28T12:21:48.484357",
     "exception": false,
     "start_time": "2023-03-28T12:21:48.461392",
     "status": "completed"
    },
    "tags": []
   },
   "outputs": [
    {
     "data": {
      "text/html": [
       "<div>\n",
       "<style scoped>\n",
       "    .dataframe tbody tr th:only-of-type {\n",
       "        vertical-align: middle;\n",
       "    }\n",
       "\n",
       "    .dataframe tbody tr th {\n",
       "        vertical-align: top;\n",
       "    }\n",
       "\n",
       "    .dataframe thead th {\n",
       "        text-align: right;\n",
       "    }\n",
       "</style>\n",
       "<table border=\"1\" class=\"dataframe\">\n",
       "  <thead>\n",
       "    <tr style=\"text-align: right;\">\n",
       "      <th></th>\n",
       "      <th>Id</th>\n",
       "      <th>WVHT(m)</th>\n",
       "    </tr>\n",
       "  </thead>\n",
       "  <tbody>\n",
       "    <tr>\n",
       "      <th>0</th>\n",
       "      <td>2019722240</td>\n",
       "      <td>0.252430</td>\n",
       "    </tr>\n",
       "    <tr>\n",
       "      <th>1</th>\n",
       "      <td>2019722340</td>\n",
       "      <td>0.390723</td>\n",
       "    </tr>\n",
       "    <tr>\n",
       "      <th>2</th>\n",
       "      <td>201973140</td>\n",
       "      <td>0.364625</td>\n",
       "    </tr>\n",
       "    <tr>\n",
       "      <th>3</th>\n",
       "      <td>2019761040</td>\n",
       "      <td>0.276428</td>\n",
       "    </tr>\n",
       "    <tr>\n",
       "      <th>4</th>\n",
       "      <td>2019761140</td>\n",
       "      <td>0.300291</td>\n",
       "    </tr>\n",
       "  </tbody>\n",
       "</table>\n",
       "</div>"
      ],
      "text/plain": [
       "           Id   WVHT(m)\n",
       "0  2019722240  0.252430\n",
       "1  2019722340  0.390723\n",
       "2   201973140  0.364625\n",
       "3  2019761040  0.276428\n",
       "4  2019761140  0.300291"
      ]
     },
     "execution_count": 15,
     "metadata": {},
     "output_type": "execute_result"
    }
   ],
   "source": [
    "output.head()"
   ]
  },
  {
   "cell_type": "code",
   "execution_count": null,
   "id": "b629f9a8",
   "metadata": {
    "papermill": {
     "duration": 0.006501,
     "end_time": "2023-03-28T12:21:48.497747",
     "exception": false,
     "start_time": "2023-03-28T12:21:48.491246",
     "status": "completed"
    },
    "tags": []
   },
   "outputs": [],
   "source": []
  }
 ],
 "metadata": {
  "kernelspec": {
   "display_name": "Python 3",
   "language": "python",
   "name": "python3"
  },
  "language_info": {
   "codemirror_mode": {
    "name": "ipython",
    "version": 3
   },
   "file_extension": ".py",
   "mimetype": "text/x-python",
   "name": "python",
   "nbconvert_exporter": "python",
   "pygments_lexer": "ipython3",
   "version": "3.7.12"
  },
  "papermill": {
   "default_parameters": {},
   "duration": 15.761772,
   "end_time": "2023-03-28T12:21:51.273537",
   "environment_variables": {},
   "exception": null,
   "input_path": "__notebook__.ipynb",
   "output_path": "__notebook__.ipynb",
   "parameters": {},
   "start_time": "2023-03-28T12:21:35.511765",
   "version": "2.4.0"
  }
 },
 "nbformat": 4,
 "nbformat_minor": 5
}
